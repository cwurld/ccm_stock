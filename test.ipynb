{
 "cells": [
  {
   "cell_type": "code",
   "execution_count": null,
   "metadata": {},
   "outputs": [],
   "source": []
  },
  {
   "cell_type": "code",
   "execution_count": 2,
   "metadata": {
    "pycharm": {
     "name": "#%%\n"
    }
   },
   "outputs": [
    {
     "name": "stdout",
     "output_type": "stream",
     "text": [
      "                 MTL       AGR       PHD       ESS      CBOE      AGRO  \\\n",
      "Date                                                                     \n",
      "2017-01-17  0.024485  0.020105  0.006189 -0.009924  0.006255  0.019914   \n",
      "2017-01-18  0.016189  0.005521  0.004345  0.000352  0.003583  0.034260   \n",
      "2017-01-19 -0.002394 -0.008174  0.008347 -0.010245  0.004220  0.024435   \n",
      "2017-01-20  0.019340 -0.013368  0.007836 -0.010126  0.013245  0.016200   \n",
      "2017-01-23  0.003940 -0.013484 -0.001750  0.002921  0.022303  0.013402   \n",
      "...              ...       ...       ...       ...       ...       ...   \n",
      "2017-12-22 -0.035904 -0.015739 -0.000696 -0.033765 -0.011820  0.001678   \n",
      "2017-12-26 -0.039321 -0.010005  0.003219 -0.026875 -0.013457  0.004427   \n",
      "2017-12-27  0.057200 -0.016659  0.002090 -0.015710 -0.013687  0.015204   \n",
      "2017-12-28  0.071270 -0.008381 -0.006536 -0.016910 -0.001732  0.007448   \n",
      "2017-12-29  0.103796  0.000860 -0.006368 -0.007859 -0.000535  0.012027   \n",
      "\n",
      "                 FPF      CHMA      SEAS    target  \n",
      "Date                                                \n",
      "2017-01-17  0.015043 -0.051556 -0.015127 -0.009116  \n",
      "2017-01-18  0.011700 -0.051095 -0.006307 -0.019608  \n",
      "2017-01-19  0.008557 -0.022005  0.002181 -0.038638  \n",
      "2017-01-20 -0.004910 -0.037037 -0.004317 -0.011745  \n",
      "2017-01-23  0.000954 -0.045226  0.002882 -0.007170  \n",
      "...              ...       ...       ...       ...  \n",
      "2017-12-22 -0.004705 -0.075630  0.043990  0.020140  \n",
      "2017-12-26 -0.012569 -0.065156  0.040861 -0.007711  \n",
      "2017-12-27 -0.007941 -0.054441  0.027946 -0.002330  \n",
      "2017-12-28 -0.011304 -0.043478  0.022369 -0.010781  \n",
      "2017-12-29 -0.012171 -0.005848  0.027647 -0.017088  \n",
      "\n",
      "[242 rows x 10 columns]\n"
     ]
    }
   ],
   "source": [
    "import numpy as np\n",
    "import pandas as pd\n",
    "import matplotlib.pyplot as plt\n",
    "\n",
    "import tensorflow as tf\n",
    "\n",
    "from nn import nn\n",
    "\n",
    "config = {\n",
    "    'start_date': '20170103',\n",
    "    'end_date': '20181231',\n",
    "    'price_field': 'Open',\n",
    "    'predictor_field': 'Open'\n",
    "}\n",
    "splits = [0.5, 0.75]\n",
    "\n",
    "# Load some stocks\n",
    "target = 'NPTN'  # this is automatically included in the predictors\n",
    "predictors = ['MTL', 'AGR', 'PHD', 'ESS', 'CBOE', 'AGRO', 'FPF', 'CHMA', 'SEAS']\n",
    "n_predictors = len(predictors)\n",
    "df = nn.load_data(target, predictors, config)\n",
    "norm_and_split = nn.NormalizeAndSplit(df, splits, 'target')\n",
    "train_df, val_df, test_df = norm_and_split.moving_avg(10)\n",
    "print(train_df)"
   ]
  },
  {
   "cell_type": "code",
   "execution_count": null,
   "metadata": {},
   "outputs": [],
   "source": []
  },
  {
   "cell_type": "code",
   "execution_count": null,
   "metadata": {},
   "outputs": [],
   "source": []
  }
 ],
 "metadata": {
  "kernelspec": {
   "display_name": "Python 3",
   "language": "python",
   "name": "python3"
  },
  "language_info": {
   "codemirror_mode": {
    "name": "ipython",
    "version": 3
   },
   "file_extension": ".py",
   "mimetype": "text/x-python",
   "name": "python",
   "nbconvert_exporter": "python",
   "pygments_lexer": "ipython3",
   "version": "3.9.5"
  }
 },
 "nbformat": 4,
 "nbformat_minor": 1
}