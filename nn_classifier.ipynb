{
 "cells": [
  {
   "cell_type": "markdown",
   "metadata": {
    "pycharm": {
     "name": "#%% md\n"
    }
   },
   "source": [
    "# Stock Trading Strategy Based on Neural Net Time Series Analysis\n",
    "\n",
    "For background, please see our previous notebook: lp_notebook.ipynb and nn_regression.ipynb.\n",
    "\n",
    "The basic idea is to predict the price of a target stock based on historical values (price, volume, etc..) of a set of predictor stocks; an event happens, it ripples through predictors then to the target. In our previous models we found this is difficult... maybe even impossible. Maybe we will have better luck with neural networks (NN).\n",
    "\n",
    "One possible benefit of NN is they make it easy to combine predictors. Previously we looked for individual stocks as predictors with the thought that we would find a way to combine them later. With the previous models it is even possible we could have two or more predictors that by themselves could not exceed a threshold, but together they would. With NN we would find such a predictors.\n",
    "\n",
    "## Unbalanced Classes\n",
    "In the previous analysis, we looked for spikes in the target that lasted 2 days and exceeded a 3% gain. That approach gave us about 10-20 events/year for an average stock. Using a NN classifier on data like that would fail because the algorithm would be right 90% of the time just by predicting \"no price increase\" everyday. To get around that issue, we tried using a NN regression model to predict the stock price for every day.\n",
    "\n",
    "### The Regression Model\n",
    "In a sense the regression model worked really well, which is not all that surprising given that the past prices of the target stock were used for prediction, and the prices of a stock do not change very much day-to-day. However, as a stock buying strategy the results were almost useless because the model was usually a day late.\n",
    "\n",
    "### Classification Model\n",
    "Back to a classification NN. One way to balance the classes is to just decrease the price threshold for getting into the positive class. The problem with that approach is it is not consistent with our hypothesis. It is likely that small price increases are not related to any predictor. Adding them as positive samples is just adding noise.\n",
    "\n",
    "Furthermore, when we were making synthetic data to test the model, we discovered that our model is not designed to handle price increases that happen over multiple days. To accommodate this, we changed how we label the data. A label is positive if:\n",
    "\n",
    "    1. (price[today] - price[yesterday]) / price[yesterday]  < threshold\n",
    "    2. (price[tomorrow] - price[today]) / price[today]  >= threshold\n",
    "    3. today is at least a convolution kernel width after the last positive label\n",
    "\n",
    "Of course, this does not resolve the unbalanced classes. There are multiple techniques for dealing with unbalanced classes. Throwing away data seems wrong. So whenever possible we prefer to synthesize data to balance the classes. In this case, it is not clear how to do that. So we will solve the problem by under-sampling the majority class.\n",
    "\n",
    "## Train, Validate and Test\n",
    "This data is not stationary. So we should intermix the training and validation samples. This is somewhat tricky because each sample extends over a few time points and we do not want the training and validation samples to contain any of the same time points.\n",
    "\n",
    "In production, we will only be predicting the next day and we will be doing that sequentially. So the test data is not intermixed.\n",
    "\n",
    "## Needles in a Haystack\n",
    "There are 5000 stocks in the NASDAQ. The number of possible combinations of predictors for each stock is enormous. The ideal model would allow us to test many predictors at once. This is similar to image classification, where there is an enormous number of pixels. Convolution models work well for this. We will give it a try in our domain.\n",
    "\n",
    "## 1D Convolution Model\n",
    "Our hypothesis is that in the few days before the target stock price goes up, there will be a signal in the predictors. Thus each sample is a 2D (conv_window x n_predictors) tensor. Using these samples, each 1D convolution filter has (conv_window x n_predictors) weights. Every predictor has it's own kernel (column) in this filter. \n",
    "\n",
    "After the convolution layer, there needs to be at least one dense layer with the number of inputs equal to the number of filters. If we let:\n",
    "\n",
    "\n",
    "p = number predictors\n",
    "\n",
    "f = number 1D convolution filters\n",
    "\n",
    "k = number time points per sample\n",
    "\n",
    "\n",
    "number of weights = $p*f*k + f \\approx p * f * k$\n",
    "\n",
    "It seems that approach gives too many degrees of freedom, which will exacerbate over-fitting and increase training time. Our intuition is that we do not need a unique kernel for each predictor for each filter. Rather a small number of kernels, maybe a max of 10, would work for any number of predictors.\n",
    "\n",
    "To accomplish this, we changed the shape of each sample by stacking the conv_window of points for each predictor. Now each 1D convolution filter has only one kernel. To prevent mixing of data between predictors in this stacked configuration, we set the convolution stride to conv_window. The number of outputs from each filter is now equal to the number of predictors. And the dense layer now has f * p inputs. The number of weights is:\n",
    "\n",
    "number of weights = $k*f + f*p \\approx p * f$\n",
    "\n",
    "We are using k=3, so this modified 1D convolution has a factor of 3 fewer weights."
   ]
  },
  {
   "cell_type": "code",
   "execution_count": 1,
   "metadata": {
    "jupyter": {
     "outputs_hidden": false
    },
    "pycharm": {
     "is_executing": true,
     "name": "#%%\n"
    }
   },
   "outputs": [
    {
     "name": "stdout",
     "output_type": "stream",
     "text": [
      "n predictors: 10\n",
      "n convolution filters: 4\n",
      "['CUEN', 'VERB', 'VRME', 'NMTR', 'AEYE', 'PLAG', 'BLNK', 'ANY', 'ELOX', 'CREX']\n"
     ]
    }
   ],
   "source": [
    "%matplotlib widget\n",
    "\n",
    "import matplotlib.pyplot as plt\n",
    "\n",
    "import nn.nn as nn\n",
    "import nn.nn2 as nn2\n",
    "from my_utils.volatility import load_volatility\n",
    "from nn.window_generators import IntermixedWindowGenerator\n",
    "\n",
    "plt.rcParams['figure.figsize'] = [8, 5]\n",
    "\n",
    "config = {\n",
    "    'start_date': '20170103',\n",
    "    'end_date': '20181231',\n",
    "    'price_field': 'Open',\n",
    "    'predictor_field': 'Open'\n",
    "}\n",
    "splits = [0.5, 0.75]\n",
    "CONV_WIDTH = 3\n",
    "\n",
    "# Load the most volatile stocks as predictors\n",
    "results_dir = nn2.get_results_dir(config)\n",
    "\n",
    "volatility = load_volatility(results_dir, config)\n",
    "target = 'PLAG'\n",
    "predictors = [x[0] for x in volatility[0:10]]\n",
    "dataframe = nn.load_data(target, predictors, config)\n",
    "n_predictors = dataframe.shape[1]\n",
    "n_filters = max(min(10, int(n_predictors / 4)), 4)\n",
    "print('n predictors: {}'.format(n_predictors))\n",
    "print('n convolution filters: {}'.format(n_filters))\n",
    "print(predictors)"
   ]
  },
  {
   "cell_type": "markdown",
   "metadata": {},
   "source": [
    "The next step is to label the data using the method described above:"
   ]
  },
  {
   "cell_type": "code",
   "execution_count": 2,
   "metadata": {
    "pycharm": {
     "is_executing": true
    }
   },
   "outputs": [
    {
     "name": "stdout",
     "output_type": "stream",
     "text": [
      "Percent positive: 9.362549800796813\n"
     ]
    }
   ],
   "source": [
    "# For this target we could not get more than 9% of the samples to be in the (+) class\n",
    "labels, threshold, frac_pos = nn2.make_labels(dataframe.target, CONV_WIDTH, frac_positive=0.09)\n",
    "print('Percent positive: {}'.format(100 * frac_pos))"
   ]
  },
  {
   "cell_type": "markdown",
   "metadata": {},
   "source": [
    "The predictor data varies wildly from stock to stock, and over time. Our hypothesis is that we are looking for localized ripples in the predictor. This suggests that the data can be normalized by taking the difference between successive time points and dividing by the value at one of those time points."
   ]
  },
  {
   "cell_type": "code",
   "execution_count": 3,
   "metadata": {
    "pycharm": {
     "is_executing": true
    }
   },
   "outputs": [],
   "source": [
    "norm_df = nn2.diff_norm(dataframe)"
   ]
  },
  {
   "cell_type": "markdown",
   "metadata": {},
   "source": [
    "Next we need to make the data samples. As mentioned above, we intermixed the train and validation samples. To balance the data, we under-sampled the majority class. "
   ]
  },
  {
   "cell_type": "code",
   "execution_count": 4,
   "metadata": {
    "pycharm": {
     "is_executing": true
    }
   },
   "outputs": [],
   "source": [
    "conv_window = IntermixedWindowGenerator(norm_df, labels, splits, CONV_WIDTH, balanced=True)\n",
    "model = nn2.limited_filters_conv_model(n_filters, CONV_WIDTH, n_predictors)"
   ]
  },
  {
   "cell_type": "markdown",
   "metadata": {},
   "source": [
    "It's not obvious what loss function we should use. It is likely that not every price gain in the target is related to a predictor. So we expect a non-zero rate of false negatives, maybe as high as 50%. At the same time, false positives will either tie up our money on buys with meager gains or worse loose money. The way to avoid false positives is to set the threshold high. This will also increase false negatives. But what is the right rate of false negatives? And if we set the threshold too high, we will not make any buys; we might as well skip all this and just put our money in a stock index fund.\n",
    "\n",
    "For now, we will go with binary-cross-entropy as the loss function."
   ]
  },
  {
   "cell_type": "code",
   "execution_count": 5,
   "metadata": {
    "pycharm": {
     "is_executing": true
    },
    "scrolled": true
   },
   "outputs": [
    {
     "name": "stdout",
     "output_type": "stream",
     "text": [
      "Epoch 1/200\n",
      "2/2 [==============================] - 2s 714ms/step - loss: 1.0680 - tp: 19.0000 - fp: 22.0000 - tn: 0.0000e+00 - fn: 0.0000e+00 - precision: 0.4634 - recall: 1.0000 - auc: 0.6232 - prc: 0.5395 - val_loss: 1.1049 - val_tp: 11.0000 - val_fp: 14.0000 - val_tn: 0.0000e+00 - val_fn: 0.0000e+00 - val_precision: 0.4400 - val_recall: 1.0000 - val_auc: 0.6948 - val_prc: 0.5690\n",
      "Epoch 2/200\n",
      "2/2 [==============================] - 0s 29ms/step - loss: 1.0656 - tp: 19.0000 - fp: 22.0000 - tn: 0.0000e+00 - fn: 0.0000e+00 - precision: 0.4634 - recall: 1.0000 - auc: 0.5993 - prc: 0.5425 - val_loss: 1.1024 - val_tp: 11.0000 - val_fp: 14.0000 - val_tn: 0.0000e+00 - val_fn: 0.0000e+00 - val_precision: 0.4400 - val_recall: 1.0000 - val_auc: 0.7045 - val_prc: 0.5760\n",
      "Epoch 3/200\n",
      "2/2 [==============================] - 0s 22ms/step - loss: 1.0633 - tp: 19.0000 - fp: 22.0000 - tn: 0.0000e+00 - fn: 0.0000e+00 - precision: 0.4634 - recall: 1.0000 - auc: 0.5622 - prc: 0.5005 - val_loss: 1.0999 - val_tp: 11.0000 - val_fp: 14.0000 - val_tn: 0.0000e+00 - val_fn: 0.0000e+00 - val_precision: 0.4400 - val_recall: 1.0000 - val_auc: 0.7045 - val_prc: 0.5701\n",
      "Epoch 4/200\n",
      "2/2 [==============================] - 0s 21ms/step - loss: 1.0609 - tp: 19.0000 - fp: 22.0000 - tn: 0.0000e+00 - fn: 0.0000e+00 - precision: 0.4634 - recall: 1.0000 - auc: 0.6148 - prc: 0.5326 - val_loss: 1.0974 - val_tp: 11.0000 - val_fp: 14.0000 - val_tn: 0.0000e+00 - val_fn: 0.0000e+00 - val_precision: 0.4400 - val_recall: 1.0000 - val_auc: 0.7143 - val_prc: 0.6072\n",
      "Epoch 5/200\n",
      "2/2 [==============================] - 0s 23ms/step - loss: 1.0586 - tp: 19.0000 - fp: 22.0000 - tn: 0.0000e+00 - fn: 0.0000e+00 - precision: 0.4634 - recall: 1.0000 - auc: 0.6268 - prc: 0.5364 - val_loss: 1.0949 - val_tp: 11.0000 - val_fp: 14.0000 - val_tn: 0.0000e+00 - val_fn: 0.0000e+00 - val_precision: 0.4400 - val_recall: 1.0000 - val_auc: 0.7370 - val_prc: 0.6209\n",
      "Epoch 6/200\n",
      "2/2 [==============================] - 0s 17ms/step - loss: 1.0565 - tp: 19.0000 - fp: 22.0000 - tn: 0.0000e+00 - fn: 0.0000e+00 - precision: 0.4634 - recall: 1.0000 - auc: 0.5993 - prc: 0.5227 - val_loss: 1.0925 - val_tp: 11.0000 - val_fp: 14.0000 - val_tn: 0.0000e+00 - val_fn: 0.0000e+00 - val_precision: 0.4400 - val_recall: 1.0000 - val_auc: 0.7403 - val_prc: 0.6220\n",
      "Epoch 7/200\n",
      "2/2 [==============================] - 0s 18ms/step - loss: 1.0541 - tp: 19.0000 - fp: 22.0000 - tn: 0.0000e+00 - fn: 0.0000e+00 - precision: 0.4634 - recall: 1.0000 - auc: 0.6100 - prc: 0.5410 - val_loss: 1.0900 - val_tp: 11.0000 - val_fp: 14.0000 - val_tn: 0.0000e+00 - val_fn: 0.0000e+00 - val_precision: 0.4400 - val_recall: 1.0000 - val_auc: 0.7435 - val_prc: 0.6269\n",
      "Epoch 8/200\n",
      "2/2 [==============================] - 0s 19ms/step - loss: 1.0521 - tp: 19.0000 - fp: 22.0000 - tn: 0.0000e+00 - fn: 0.0000e+00 - precision: 0.4634 - recall: 1.0000 - auc: 0.6172 - prc: 0.5488 - val_loss: 1.0877 - val_tp: 11.0000 - val_fp: 14.0000 - val_tn: 0.0000e+00 - val_fn: 0.0000e+00 - val_precision: 0.4400 - val_recall: 1.0000 - val_auc: 0.7532 - val_prc: 0.6039\n",
      "Epoch 9/200\n",
      "2/2 [==============================] - 0s 18ms/step - loss: 1.0497 - tp: 19.0000 - fp: 22.0000 - tn: 0.0000e+00 - fn: 0.0000e+00 - precision: 0.4634 - recall: 1.0000 - auc: 0.6148 - prc: 0.5375 - val_loss: 1.0853 - val_tp: 11.0000 - val_fp: 14.0000 - val_tn: 0.0000e+00 - val_fn: 0.0000e+00 - val_precision: 0.4400 - val_recall: 1.0000 - val_auc: 0.7273 - val_prc: 0.5997\n",
      "Epoch 10/200\n",
      "2/2 [==============================] - 0s 17ms/step - loss: 1.0478 - tp: 19.0000 - fp: 22.0000 - tn: 0.0000e+00 - fn: 0.0000e+00 - precision: 0.4634 - recall: 1.0000 - auc: 0.6029 - prc: 0.5237 - val_loss: 1.0830 - val_tp: 11.0000 - val_fp: 14.0000 - val_tn: 0.0000e+00 - val_fn: 0.0000e+00 - val_precision: 0.4400 - val_recall: 1.0000 - val_auc: 0.7597 - val_prc: 0.6146\n",
      "Epoch 11/200\n",
      "2/2 [==============================] - 0s 18ms/step - loss: 1.0455 - tp: 19.0000 - fp: 22.0000 - tn: 0.0000e+00 - fn: 0.0000e+00 - precision: 0.4634 - recall: 1.0000 - auc: 0.6196 - prc: 0.5484 - val_loss: 1.0807 - val_tp: 11.0000 - val_fp: 14.0000 - val_tn: 0.0000e+00 - val_fn: 0.0000e+00 - val_precision: 0.4400 - val_recall: 1.0000 - val_auc: 0.7338 - val_prc: 0.5889\n",
      "Epoch 12/200\n",
      "2/2 [==============================] - 0s 18ms/step - loss: 1.0433 - tp: 19.0000 - fp: 22.0000 - tn: 0.0000e+00 - fn: 0.0000e+00 - precision: 0.4634 - recall: 1.0000 - auc: 0.6124 - prc: 0.5379 - val_loss: 1.0783 - val_tp: 11.0000 - val_fp: 14.0000 - val_tn: 0.0000e+00 - val_fn: 0.0000e+00 - val_precision: 0.4400 - val_recall: 1.0000 - val_auc: 0.7403 - val_prc: 0.5910\n",
      "Epoch 13/200\n",
      "2/2 [==============================] - 0s 18ms/step - loss: 1.0411 - tp: 19.0000 - fp: 22.0000 - tn: 0.0000e+00 - fn: 0.0000e+00 - precision: 0.4634 - recall: 1.0000 - auc: 0.6531 - prc: 0.6180 - val_loss: 1.0759 - val_tp: 11.0000 - val_fp: 14.0000 - val_tn: 0.0000e+00 - val_fn: 0.0000e+00 - val_precision: 0.4400 - val_recall: 1.0000 - val_auc: 0.7857 - val_prc: 0.6562\n",
      "Epoch 14/200\n",
      "2/2 [==============================] - 0s 18ms/step - loss: 1.0386 - tp: 19.0000 - fp: 22.0000 - tn: 0.0000e+00 - fn: 0.0000e+00 - precision: 0.4634 - recall: 1.0000 - auc: 0.6388 - prc: 0.5996 - val_loss: 1.0734 - val_tp: 11.0000 - val_fp: 14.0000 - val_tn: 0.0000e+00 - val_fn: 0.0000e+00 - val_precision: 0.4400 - val_recall: 1.0000 - val_auc: 0.8084 - val_prc: 0.6758\n",
      "Epoch 15/200\n",
      "2/2 [==============================] - 0s 18ms/step - loss: 1.0363 - tp: 19.0000 - fp: 22.0000 - tn: 0.0000e+00 - fn: 0.0000e+00 - precision: 0.4634 - recall: 1.0000 - auc: 0.6591 - prc: 0.6121 - val_loss: 1.0708 - val_tp: 11.0000 - val_fp: 14.0000 - val_tn: 0.0000e+00 - val_fn: 0.0000e+00 - val_precision: 0.4400 - val_recall: 1.0000 - val_auc: 0.8247 - val_prc: 0.6995\n",
      "Epoch 16/200\n",
      "2/2 [==============================] - 0s 17ms/step - loss: 1.0337 - tp: 19.0000 - fp: 22.0000 - tn: 0.0000e+00 - fn: 0.0000e+00 - precision: 0.4634 - recall: 1.0000 - auc: 0.6280 - prc: 0.5610 - val_loss: 1.0682 - val_tp: 11.0000 - val_fp: 14.0000 - val_tn: 0.0000e+00 - val_fn: 0.0000e+00 - val_precision: 0.4400 - val_recall: 1.0000 - val_auc: 0.8084 - val_prc: 0.6464\n",
      "Epoch 17/200\n",
      "2/2 [==============================] - 0s 18ms/step - loss: 1.0309 - tp: 19.0000 - fp: 22.0000 - tn: 0.0000e+00 - fn: 0.0000e+00 - precision: 0.4634 - recall: 1.0000 - auc: 0.6220 - prc: 0.5542 - val_loss: 1.0654 - val_tp: 11.0000 - val_fp: 14.0000 - val_tn: 0.0000e+00 - val_fn: 0.0000e+00 - val_precision: 0.4400 - val_recall: 1.0000 - val_auc: 0.7630 - val_prc: 0.6099\n",
      "Epoch 18/200\n",
      "2/2 [==============================] - 0s 19ms/step - loss: 1.0284 - tp: 19.0000 - fp: 22.0000 - tn: 0.0000e+00 - fn: 0.0000e+00 - precision: 0.4634 - recall: 1.0000 - auc: 0.6053 - prc: 0.5812 - val_loss: 1.0624 - val_tp: 11.0000 - val_fp: 14.0000 - val_tn: 0.0000e+00 - val_fn: 0.0000e+00 - val_precision: 0.4400 - val_recall: 1.0000 - val_auc: 0.7695 - val_prc: 0.6107\n",
      "Epoch 19/200\n",
      "2/2 [==============================] - 0s 19ms/step - loss: 1.0256 - tp: 19.0000 - fp: 22.0000 - tn: 0.0000e+00 - fn: 0.0000e+00 - precision: 0.4634 - recall: 1.0000 - auc: 0.6663 - prc: 0.6381 - val_loss: 1.0595 - val_tp: 11.0000 - val_fp: 14.0000 - val_tn: 0.0000e+00 - val_fn: 0.0000e+00 - val_precision: 0.4400 - val_recall: 1.0000 - val_auc: 0.7857 - val_prc: 0.6300\n",
      "Epoch 20/200\n",
      "2/2 [==============================] - 0s 18ms/step - loss: 1.0225 - tp: 19.0000 - fp: 22.0000 - tn: 0.0000e+00 - fn: 0.0000e+00 - precision: 0.4634 - recall: 1.0000 - auc: 0.6687 - prc: 0.6428 - val_loss: 1.0565 - val_tp: 11.0000 - val_fp: 14.0000 - val_tn: 0.0000e+00 - val_fn: 0.0000e+00 - val_precision: 0.4400 - val_recall: 1.0000 - val_auc: 0.8344 - val_prc: 0.6729\n",
      "Epoch 21/200\n",
      "2/2 [==============================] - 0s 21ms/step - loss: 1.0196 - tp: 19.0000 - fp: 22.0000 - tn: 0.0000e+00 - fn: 0.0000e+00 - precision: 0.4634 - recall: 1.0000 - auc: 0.6627 - prc: 0.5929 - val_loss: 1.0533 - val_tp: 11.0000 - val_fp: 14.0000 - val_tn: 0.0000e+00 - val_fn: 0.0000e+00 - val_precision: 0.4400 - val_recall: 1.0000 - val_auc: 0.8279 - val_prc: 0.6763\n",
      "Epoch 22/200\n"
     ]
    },
    {
     "name": "stdout",
     "output_type": "stream",
     "text": [
      "2/2 [==============================] - 0s 19ms/step - loss: 1.0169 - tp: 19.0000 - fp: 22.0000 - tn: 0.0000e+00 - fn: 0.0000e+00 - precision: 0.4634 - recall: 1.0000 - auc: 0.6519 - prc: 0.6369 - val_loss: 1.0499 - val_tp: 11.0000 - val_fp: 14.0000 - val_tn: 0.0000e+00 - val_fn: 0.0000e+00 - val_precision: 0.4400 - val_recall: 1.0000 - val_auc: 0.8117 - val_prc: 0.6450\n",
      "Epoch 23/200\n",
      "2/2 [==============================] - 0s 20ms/step - loss: 1.0136 - tp: 19.0000 - fp: 22.0000 - tn: 0.0000e+00 - fn: 0.0000e+00 - precision: 0.4634 - recall: 1.0000 - auc: 0.6699 - prc: 0.6657 - val_loss: 1.0465 - val_tp: 11.0000 - val_fp: 14.0000 - val_tn: 0.0000e+00 - val_fn: 0.0000e+00 - val_precision: 0.4400 - val_recall: 1.0000 - val_auc: 0.8052 - val_prc: 0.6559\n",
      "Epoch 24/200\n",
      "2/2 [==============================] - 0s 18ms/step - loss: 1.0106 - tp: 19.0000 - fp: 22.0000 - tn: 0.0000e+00 - fn: 0.0000e+00 - precision: 0.4634 - recall: 1.0000 - auc: 0.6854 - prc: 0.6597 - val_loss: 1.0430 - val_tp: 11.0000 - val_fp: 14.0000 - val_tn: 0.0000e+00 - val_fn: 0.0000e+00 - val_precision: 0.4400 - val_recall: 1.0000 - val_auc: 0.8182 - val_prc: 0.6607\n",
      "Epoch 25/200\n",
      "2/2 [==============================] - 0s 18ms/step - loss: 1.0073 - tp: 19.0000 - fp: 22.0000 - tn: 0.0000e+00 - fn: 0.0000e+00 - precision: 0.4634 - recall: 1.0000 - auc: 0.6722 - prc: 0.6268 - val_loss: 1.0395 - val_tp: 11.0000 - val_fp: 14.0000 - val_tn: 0.0000e+00 - val_fn: 0.0000e+00 - val_precision: 0.4400 - val_recall: 1.0000 - val_auc: 0.8377 - val_prc: 0.6694\n",
      "Epoch 26/200\n",
      "2/2 [==============================] - 0s 17ms/step - loss: 1.0041 - tp: 19.0000 - fp: 22.0000 - tn: 0.0000e+00 - fn: 0.0000e+00 - precision: 0.4634 - recall: 1.0000 - auc: 0.6615 - prc: 0.6728 - val_loss: 1.0358 - val_tp: 11.0000 - val_fp: 14.0000 - val_tn: 0.0000e+00 - val_fn: 0.0000e+00 - val_precision: 0.4400 - val_recall: 1.0000 - val_auc: 0.8214 - val_prc: 0.6540\n",
      "Epoch 27/200\n",
      "2/2 [==============================] - 0s 18ms/step - loss: 1.0005 - tp: 19.0000 - fp: 22.0000 - tn: 0.0000e+00 - fn: 0.0000e+00 - precision: 0.4634 - recall: 1.0000 - auc: 0.6711 - prc: 0.6744 - val_loss: 1.0322 - val_tp: 11.0000 - val_fp: 14.0000 - val_tn: 0.0000e+00 - val_fn: 0.0000e+00 - val_precision: 0.4400 - val_recall: 1.0000 - val_auc: 0.8539 - val_prc: 0.6952\n",
      "Epoch 28/200\n",
      "2/2 [==============================] - 0s 18ms/step - loss: 0.9973 - tp: 19.0000 - fp: 22.0000 - tn: 0.0000e+00 - fn: 0.0000e+00 - precision: 0.4634 - recall: 1.0000 - auc: 0.6902 - prc: 0.6769 - val_loss: 1.0284 - val_tp: 11.0000 - val_fp: 14.0000 - val_tn: 0.0000e+00 - val_fn: 0.0000e+00 - val_precision: 0.4400 - val_recall: 1.0000 - val_auc: 0.8247 - val_prc: 0.6692\n",
      "Epoch 29/200\n",
      "2/2 [==============================] - 0s 17ms/step - loss: 0.9933 - tp: 19.0000 - fp: 22.0000 - tn: 0.0000e+00 - fn: 0.0000e+00 - precision: 0.4634 - recall: 1.0000 - auc: 0.7022 - prc: 0.7314 - val_loss: 1.0245 - val_tp: 11.0000 - val_fp: 14.0000 - val_tn: 0.0000e+00 - val_fn: 0.0000e+00 - val_precision: 0.4400 - val_recall: 1.0000 - val_auc: 0.8247 - val_prc: 0.6566\n",
      "Epoch 30/200\n",
      "2/2 [==============================] - 0s 18ms/step - loss: 0.9898 - tp: 19.0000 - fp: 22.0000 - tn: 0.0000e+00 - fn: 0.0000e+00 - precision: 0.4634 - recall: 1.0000 - auc: 0.6734 - prc: 0.7139 - val_loss: 1.0203 - val_tp: 11.0000 - val_fp: 14.0000 - val_tn: 0.0000e+00 - val_fn: 0.0000e+00 - val_precision: 0.4400 - val_recall: 1.0000 - val_auc: 0.8604 - val_prc: 0.7033\n",
      "Epoch 31/200\n",
      "2/2 [==============================] - 0s 17ms/step - loss: 0.9860 - tp: 19.0000 - fp: 22.0000 - tn: 0.0000e+00 - fn: 0.0000e+00 - precision: 0.4634 - recall: 1.0000 - auc: 0.6938 - prc: 0.7028 - val_loss: 1.0161 - val_tp: 11.0000 - val_fp: 14.0000 - val_tn: 0.0000e+00 - val_fn: 0.0000e+00 - val_precision: 0.4400 - val_recall: 1.0000 - val_auc: 0.8312 - val_prc: 0.6783\n",
      "Epoch 32/200\n",
      "2/2 [==============================] - 0s 18ms/step - loss: 0.9823 - tp: 19.0000 - fp: 22.0000 - tn: 0.0000e+00 - fn: 0.0000e+00 - precision: 0.4634 - recall: 1.0000 - auc: 0.6926 - prc: 0.7285 - val_loss: 1.0117 - val_tp: 11.0000 - val_fp: 14.0000 - val_tn: 0.0000e+00 - val_fn: 0.0000e+00 - val_precision: 0.4400 - val_recall: 1.0000 - val_auc: 0.8377 - val_prc: 0.6755\n",
      "Epoch 33/200\n",
      "2/2 [==============================] - 0s 17ms/step - loss: 0.9783 - tp: 19.0000 - fp: 22.0000 - tn: 0.0000e+00 - fn: 0.0000e+00 - precision: 0.4634 - recall: 1.0000 - auc: 0.6818 - prc: 0.7253 - val_loss: 1.0073 - val_tp: 11.0000 - val_fp: 14.0000 - val_tn: 0.0000e+00 - val_fn: 0.0000e+00 - val_precision: 0.4400 - val_recall: 1.0000 - val_auc: 0.8442 - val_prc: 0.6864\n",
      "Epoch 34/200\n",
      "2/2 [==============================] - 0s 18ms/step - loss: 0.9743 - tp: 19.0000 - fp: 22.0000 - tn: 0.0000e+00 - fn: 0.0000e+00 - precision: 0.4634 - recall: 1.0000 - auc: 0.7069 - prc: 0.7258 - val_loss: 1.0030 - val_tp: 11.0000 - val_fp: 14.0000 - val_tn: 0.0000e+00 - val_fn: 0.0000e+00 - val_precision: 0.4400 - val_recall: 1.0000 - val_auc: 0.8571 - val_prc: 0.6968\n",
      "Epoch 35/200\n",
      "2/2 [==============================] - 0s 18ms/step - loss: 0.9705 - tp: 19.0000 - fp: 22.0000 - tn: 0.0000e+00 - fn: 0.0000e+00 - precision: 0.4634 - recall: 1.0000 - auc: 0.6878 - prc: 0.7346 - val_loss: 0.9985 - val_tp: 11.0000 - val_fp: 14.0000 - val_tn: 0.0000e+00 - val_fn: 0.0000e+00 - val_precision: 0.4400 - val_recall: 1.0000 - val_auc: 0.8669 - val_prc: 0.7176\n",
      "Epoch 36/200\n",
      "2/2 [==============================] - 0s 19ms/step - loss: 0.9661 - tp: 19.0000 - fp: 22.0000 - tn: 0.0000e+00 - fn: 0.0000e+00 - precision: 0.4634 - recall: 1.0000 - auc: 0.7069 - prc: 0.7374 - val_loss: 0.9941 - val_tp: 11.0000 - val_fp: 14.0000 - val_tn: 0.0000e+00 - val_fn: 0.0000e+00 - val_precision: 0.4400 - val_recall: 1.0000 - val_auc: 0.8506 - val_prc: 0.6940\n",
      "Epoch 37/200\n",
      "2/2 [==============================] - 0s 18ms/step - loss: 0.9623 - tp: 19.0000 - fp: 22.0000 - tn: 0.0000e+00 - fn: 0.0000e+00 - precision: 0.4634 - recall: 1.0000 - auc: 0.6986 - prc: 0.7338 - val_loss: 0.9894 - val_tp: 11.0000 - val_fp: 14.0000 - val_tn: 0.0000e+00 - val_fn: 0.0000e+00 - val_precision: 0.4400 - val_recall: 1.0000 - val_auc: 0.8669 - val_prc: 0.7026\n",
      "Epoch 38/200\n",
      "2/2 [==============================] - 0s 19ms/step - loss: 0.9579 - tp: 19.0000 - fp: 22.0000 - tn: 0.0000e+00 - fn: 0.0000e+00 - precision: 0.4634 - recall: 1.0000 - auc: 0.6950 - prc: 0.7418 - val_loss: 0.9847 - val_tp: 11.0000 - val_fp: 14.0000 - val_tn: 0.0000e+00 - val_fn: 0.0000e+00 - val_precision: 0.4400 - val_recall: 1.0000 - val_auc: 0.8636 - val_prc: 0.7127\n",
      "Epoch 39/200\n",
      "2/2 [==============================] - 0s 17ms/step - loss: 0.9536 - tp: 19.0000 - fp: 22.0000 - tn: 0.0000e+00 - fn: 0.0000e+00 - precision: 0.4634 - recall: 1.0000 - auc: 0.7225 - prc: 0.7481 - val_loss: 0.9797 - val_tp: 11.0000 - val_fp: 14.0000 - val_tn: 0.0000e+00 - val_fn: 0.0000e+00 - val_precision: 0.4400 - val_recall: 1.0000 - val_auc: 0.8442 - val_prc: 0.6819\n",
      "Epoch 40/200\n",
      "2/2 [==============================] - 0s 18ms/step - loss: 0.9490 - tp: 19.0000 - fp: 22.0000 - tn: 0.0000e+00 - fn: 0.0000e+00 - precision: 0.4634 - recall: 1.0000 - auc: 0.6890 - prc: 0.7158 - val_loss: 0.9745 - val_tp: 11.0000 - val_fp: 14.0000 - val_tn: 0.0000e+00 - val_fn: 0.0000e+00 - val_precision: 0.4400 - val_recall: 1.0000 - val_auc: 0.8701 - val_prc: 0.7240\n",
      "Epoch 41/200\n",
      "2/2 [==============================] - 0s 18ms/step - loss: 0.9446 - tp: 19.0000 - fp: 22.0000 - tn: 0.0000e+00 - fn: 0.0000e+00 - precision: 0.4634 - recall: 1.0000 - auc: 0.7093 - prc: 0.7453 - val_loss: 0.9692 - val_tp: 11.0000 - val_fp: 14.0000 - val_tn: 0.0000e+00 - val_fn: 0.0000e+00 - val_precision: 0.4400 - val_recall: 1.0000 - val_auc: 0.8636 - val_prc: 0.7090\n",
      "Epoch 42/200\n",
      "2/2 [==============================] - 0s 17ms/step - loss: 0.9398 - tp: 19.0000 - fp: 22.0000 - tn: 0.0000e+00 - fn: 0.0000e+00 - precision: 0.4634 - recall: 1.0000 - auc: 0.7093 - prc: 0.7406 - val_loss: 0.9637 - val_tp: 11.0000 - val_fp: 14.0000 - val_tn: 0.0000e+00 - val_fn: 0.0000e+00 - val_precision: 0.4400 - val_recall: 1.0000 - val_auc: 0.8669 - val_prc: 0.7026\n",
      "Epoch 43/200\n"
     ]
    },
    {
     "name": "stdout",
     "output_type": "stream",
     "text": [
      "2/2 [==============================] - 0s 16ms/step - loss: 0.9348 - tp: 19.0000 - fp: 22.0000 - tn: 0.0000e+00 - fn: 0.0000e+00 - precision: 0.4634 - recall: 1.0000 - auc: 0.7165 - prc: 0.7593 - val_loss: 0.9582 - val_tp: 11.0000 - val_fp: 14.0000 - val_tn: 0.0000e+00 - val_fn: 0.0000e+00 - val_precision: 0.4400 - val_recall: 1.0000 - val_auc: 0.8636 - val_prc: 0.7090\n",
      "Epoch 44/200\n",
      "2/2 [==============================] - 0s 18ms/step - loss: 0.9295 - tp: 19.0000 - fp: 22.0000 - tn: 0.0000e+00 - fn: 0.0000e+00 - precision: 0.4634 - recall: 1.0000 - auc: 0.7081 - prc: 0.7485 - val_loss: 0.9526 - val_tp: 11.0000 - val_fp: 14.0000 - val_tn: 0.0000e+00 - val_fn: 0.0000e+00 - val_precision: 0.4400 - val_recall: 1.0000 - val_auc: 0.8734 - val_prc: 0.7109\n",
      "Epoch 45/200\n",
      "2/2 [==============================] - 0s 17ms/step - loss: 0.9253 - tp: 19.0000 - fp: 22.0000 - tn: 0.0000e+00 - fn: 0.0000e+00 - precision: 0.4634 - recall: 1.0000 - auc: 0.7057 - prc: 0.7534 - val_loss: 0.9469 - val_tp: 11.0000 - val_fp: 14.0000 - val_tn: 0.0000e+00 - val_fn: 0.0000e+00 - val_precision: 0.4400 - val_recall: 1.0000 - val_auc: 0.8669 - val_prc: 0.7110\n",
      "Epoch 46/200\n",
      "2/2 [==============================] - 0s 17ms/step - loss: 0.9195 - tp: 19.0000 - fp: 22.0000 - tn: 0.0000e+00 - fn: 0.0000e+00 - precision: 0.4634 - recall: 1.0000 - auc: 0.6926 - prc: 0.7291 - val_loss: 0.9413 - val_tp: 11.0000 - val_fp: 14.0000 - val_tn: 0.0000e+00 - val_fn: 0.0000e+00 - val_precision: 0.4400 - val_recall: 1.0000 - val_auc: 0.8766 - val_prc: 0.7165\n",
      "Epoch 47/200\n",
      "2/2 [==============================] - 0s 18ms/step - loss: 0.9144 - tp: 19.0000 - fp: 22.0000 - tn: 0.0000e+00 - fn: 0.0000e+00 - precision: 0.4634 - recall: 1.0000 - auc: 0.7165 - prc: 0.7591 - val_loss: 0.9355 - val_tp: 11.0000 - val_fp: 14.0000 - val_tn: 0.0000e+00 - val_fn: 0.0000e+00 - val_precision: 0.4400 - val_recall: 1.0000 - val_auc: 0.8604 - val_prc: 0.6934\n",
      "Epoch 48/200\n",
      "2/2 [==============================] - 0s 18ms/step - loss: 0.9100 - tp: 19.0000 - fp: 22.0000 - tn: 0.0000e+00 - fn: 0.0000e+00 - precision: 0.4634 - recall: 1.0000 - auc: 0.6938 - prc: 0.7490 - val_loss: 0.9297 - val_tp: 11.0000 - val_fp: 14.0000 - val_tn: 0.0000e+00 - val_fn: 0.0000e+00 - val_precision: 0.4400 - val_recall: 1.0000 - val_auc: 0.8766 - val_prc: 0.7165\n",
      "Epoch 49/200\n",
      "2/2 [==============================] - 0s 18ms/step - loss: 0.9045 - tp: 19.0000 - fp: 22.0000 - tn: 0.0000e+00 - fn: 0.0000e+00 - precision: 0.4634 - recall: 1.0000 - auc: 0.7261 - prc: 0.7739 - val_loss: 0.9241 - val_tp: 11.0000 - val_fp: 14.0000 - val_tn: 0.0000e+00 - val_fn: 0.0000e+00 - val_precision: 0.4400 - val_recall: 1.0000 - val_auc: 0.8636 - val_prc: 0.6955\n",
      "Epoch 50/200\n",
      "2/2 [==============================] - 0s 19ms/step - loss: 0.8990 - tp: 19.0000 - fp: 22.0000 - tn: 0.0000e+00 - fn: 0.0000e+00 - precision: 0.4634 - recall: 1.0000 - auc: 0.7237 - prc: 0.7571 - val_loss: 0.9184 - val_tp: 11.0000 - val_fp: 14.0000 - val_tn: 0.0000e+00 - val_fn: 0.0000e+00 - val_precision: 0.4400 - val_recall: 1.0000 - val_auc: 0.8701 - val_prc: 0.7108\n",
      "Epoch 51/200\n",
      "2/2 [==============================] - 0s 18ms/step - loss: 0.8939 - tp: 19.0000 - fp: 22.0000 - tn: 0.0000e+00 - fn: 0.0000e+00 - precision: 0.4634 - recall: 1.0000 - auc: 0.7380 - prc: 0.7789 - val_loss: 0.9124 - val_tp: 11.0000 - val_fp: 14.0000 - val_tn: 0.0000e+00 - val_fn: 0.0000e+00 - val_precision: 0.4400 - val_recall: 1.0000 - val_auc: 0.8669 - val_prc: 0.6977\n",
      "Epoch 52/200\n",
      "2/2 [==============================] - 0s 20ms/step - loss: 0.8886 - tp: 19.0000 - fp: 22.0000 - tn: 0.0000e+00 - fn: 0.0000e+00 - precision: 0.4634 - recall: 1.0000 - auc: 0.7237 - prc: 0.7625 - val_loss: 0.9062 - val_tp: 11.0000 - val_fp: 14.0000 - val_tn: 0.0000e+00 - val_fn: 0.0000e+00 - val_precision: 0.4400 - val_recall: 1.0000 - val_auc: 0.8799 - val_prc: 0.7156\n",
      "Epoch 53/200\n",
      "2/2 [==============================] - 0s 18ms/step - loss: 0.8835 - tp: 19.0000 - fp: 22.0000 - tn: 0.0000e+00 - fn: 0.0000e+00 - precision: 0.4634 - recall: 1.0000 - auc: 0.7177 - prc: 0.7749 - val_loss: 0.8999 - val_tp: 11.0000 - val_fp: 14.0000 - val_tn: 0.0000e+00 - val_fn: 0.0000e+00 - val_precision: 0.4400 - val_recall: 1.0000 - val_auc: 0.8766 - val_prc: 0.7066\n",
      "Epoch 54/200\n",
      "2/2 [==============================] - 0s 17ms/step - loss: 0.8777 - tp: 19.0000 - fp: 22.0000 - tn: 0.0000e+00 - fn: 0.0000e+00 - precision: 0.4634 - recall: 1.0000 - auc: 0.7261 - prc: 0.7644 - val_loss: 0.8936 - val_tp: 11.0000 - val_fp: 14.0000 - val_tn: 0.0000e+00 - val_fn: 0.0000e+00 - val_precision: 0.4400 - val_recall: 1.0000 - val_auc: 0.8701 - val_prc: 0.7042\n",
      "Epoch 55/200\n",
      "2/2 [==============================] - 0s 18ms/step - loss: 0.8731 - tp: 19.0000 - fp: 22.0000 - tn: 0.0000e+00 - fn: 0.0000e+00 - precision: 0.4634 - recall: 1.0000 - auc: 0.7022 - prc: 0.7483 - val_loss: 0.8874 - val_tp: 11.0000 - val_fp: 14.0000 - val_tn: 0.0000e+00 - val_fn: 0.0000e+00 - val_precision: 0.4400 - val_recall: 1.0000 - val_auc: 0.8799 - val_prc: 0.7156\n",
      "Epoch 56/200\n",
      "2/2 [==============================] - 0s 18ms/step - loss: 0.8668 - tp: 19.0000 - fp: 22.0000 - tn: 0.0000e+00 - fn: 0.0000e+00 - precision: 0.4634 - recall: 1.0000 - auc: 0.7213 - prc: 0.7633 - val_loss: 0.8816 - val_tp: 11.0000 - val_fp: 14.0000 - val_tn: 0.0000e+00 - val_fn: 0.0000e+00 - val_precision: 0.4400 - val_recall: 1.0000 - val_auc: 0.8734 - val_prc: 0.7074\n",
      "Epoch 57/200\n",
      "2/2 [==============================] - 0s 18ms/step - loss: 0.8616 - tp: 19.0000 - fp: 22.0000 - tn: 0.0000e+00 - fn: 0.0000e+00 - precision: 0.4634 - recall: 1.0000 - auc: 0.7189 - prc: 0.7606 - val_loss: 0.8756 - val_tp: 11.0000 - val_fp: 14.0000 - val_tn: 0.0000e+00 - val_fn: 0.0000e+00 - val_precision: 0.4400 - val_recall: 1.0000 - val_auc: 0.8896 - val_prc: 0.7246\n",
      "Epoch 58/200\n",
      "2/2 [==============================] - 0s 17ms/step - loss: 0.8566 - tp: 19.0000 - fp: 22.0000 - tn: 0.0000e+00 - fn: 0.0000e+00 - precision: 0.4634 - recall: 1.0000 - auc: 0.7225 - prc: 0.7516 - val_loss: 0.8695 - val_tp: 11.0000 - val_fp: 14.0000 - val_tn: 0.0000e+00 - val_fn: 0.0000e+00 - val_precision: 0.4400 - val_recall: 1.0000 - val_auc: 0.8734 - val_prc: 0.7031\n",
      "Epoch 59/200\n",
      "2/2 [==============================] - 0s 18ms/step - loss: 0.8512 - tp: 19.0000 - fp: 22.0000 - tn: 0.0000e+00 - fn: 0.0000e+00 - precision: 0.4634 - recall: 1.0000 - auc: 0.7368 - prc: 0.7743 - val_loss: 0.8633 - val_tp: 11.0000 - val_fp: 14.0000 - val_tn: 0.0000e+00 - val_fn: 0.0000e+00 - val_precision: 0.4400 - val_recall: 1.0000 - val_auc: 0.8766 - val_prc: 0.7134\n",
      "Epoch 60/200\n",
      "2/2 [==============================] - 0s 18ms/step - loss: 0.8456 - tp: 19.0000 - fp: 22.0000 - tn: 0.0000e+00 - fn: 0.0000e+00 - precision: 0.4634 - recall: 1.0000 - auc: 0.7285 - prc: 0.7504 - val_loss: 0.8571 - val_tp: 11.0000 - val_fp: 14.0000 - val_tn: 0.0000e+00 - val_fn: 0.0000e+00 - val_precision: 0.4400 - val_recall: 1.0000 - val_auc: 0.8831 - val_prc: 0.7191\n",
      "Epoch 61/200\n",
      "2/2 [==============================] - 0s 18ms/step - loss: 0.8399 - tp: 19.0000 - fp: 22.0000 - tn: 0.0000e+00 - fn: 0.0000e+00 - precision: 0.4634 - recall: 1.0000 - auc: 0.7440 - prc: 0.7756 - val_loss: 0.8507 - val_tp: 11.0000 - val_fp: 14.0000 - val_tn: 0.0000e+00 - val_fn: 0.0000e+00 - val_precision: 0.4400 - val_recall: 1.0000 - val_auc: 0.8799 - val_prc: 0.7131\n",
      "Epoch 62/200\n",
      "2/2 [==============================] - 0s 18ms/step - loss: 0.8346 - tp: 19.0000 - fp: 22.0000 - tn: 0.0000e+00 - fn: 0.0000e+00 - precision: 0.4634 - recall: 1.0000 - auc: 0.7380 - prc: 0.7803 - val_loss: 0.8440 - val_tp: 11.0000 - val_fp: 14.0000 - val_tn: 0.0000e+00 - val_fn: 0.0000e+00 - val_precision: 0.4400 - val_recall: 1.0000 - val_auc: 0.8831 - val_prc: 0.7191\n",
      "Epoch 63/200\n",
      "2/2 [==============================] - 0s 18ms/step - loss: 0.8285 - tp: 19.0000 - fp: 22.0000 - tn: 0.0000e+00 - fn: 0.0000e+00 - precision: 0.4634 - recall: 1.0000 - auc: 0.7249 - prc: 0.7507 - val_loss: 0.8372 - val_tp: 11.0000 - val_fp: 14.0000 - val_tn: 0.0000e+00 - val_fn: 0.0000e+00 - val_precision: 0.4400 - val_recall: 1.0000 - val_auc: 0.8896 - val_prc: 0.7246\n",
      "Epoch 64/200\n"
     ]
    },
    {
     "name": "stdout",
     "output_type": "stream",
     "text": [
      "2/2 [==============================] - 0s 18ms/step - loss: 0.8229 - tp: 19.0000 - fp: 22.0000 - tn: 0.0000e+00 - fn: 0.0000e+00 - precision: 0.4634 - recall: 1.0000 - auc: 0.7356 - prc: 0.7574 - val_loss: 0.8303 - val_tp: 11.0000 - val_fp: 14.0000 - val_tn: 0.0000e+00 - val_fn: 0.0000e+00 - val_precision: 0.4400 - val_recall: 1.0000 - val_auc: 0.8896 - val_prc: 0.7246\n",
      "Epoch 65/200\n",
      "2/2 [==============================] - 0s 21ms/step - loss: 0.8167 - tp: 19.0000 - fp: 22.0000 - tn: 0.0000e+00 - fn: 0.0000e+00 - precision: 0.4634 - recall: 1.0000 - auc: 0.7488 - prc: 0.7802 - val_loss: 0.8233 - val_tp: 11.0000 - val_fp: 14.0000 - val_tn: 0.0000e+00 - val_fn: 0.0000e+00 - val_precision: 0.4400 - val_recall: 1.0000 - val_auc: 0.8799 - val_prc: 0.7167\n",
      "Epoch 66/200\n",
      "2/2 [==============================] - 0s 18ms/step - loss: 0.8109 - tp: 19.0000 - fp: 22.0000 - tn: 0.0000e+00 - fn: 0.0000e+00 - precision: 0.4634 - recall: 1.0000 - auc: 0.7297 - prc: 0.7462 - val_loss: 0.8164 - val_tp: 11.0000 - val_fp: 14.0000 - val_tn: 0.0000e+00 - val_fn: 0.0000e+00 - val_precision: 0.4400 - val_recall: 1.0000 - val_auc: 0.8766 - val_prc: 0.7108\n",
      "Epoch 67/200\n",
      "2/2 [==============================] - 0s 17ms/step - loss: 0.8041 - tp: 19.0000 - fp: 22.0000 - tn: 0.0000e+00 - fn: 0.0000e+00 - precision: 0.4634 - recall: 1.0000 - auc: 0.7524 - prc: 0.7624 - val_loss: 0.8095 - val_tp: 11.0000 - val_fp: 14.0000 - val_tn: 0.0000e+00 - val_fn: 0.0000e+00 - val_precision: 0.4400 - val_recall: 1.0000 - val_auc: 0.8766 - val_prc: 0.7108\n",
      "Epoch 68/200\n",
      "2/2 [==============================] - 0s 16ms/step - loss: 0.7986 - tp: 19.0000 - fp: 22.0000 - tn: 0.0000e+00 - fn: 0.0000e+00 - precision: 0.4634 - recall: 1.0000 - auc: 0.7356 - prc: 0.7588 - val_loss: 0.8024 - val_tp: 11.0000 - val_fp: 14.0000 - val_tn: 0.0000e+00 - val_fn: 0.0000e+00 - val_precision: 0.4400 - val_recall: 1.0000 - val_auc: 0.8799 - val_prc: 0.7167\n",
      "Epoch 69/200\n",
      "2/2 [==============================] - 0s 18ms/step - loss: 0.7923 - tp: 19.0000 - fp: 22.0000 - tn: 0.0000e+00 - fn: 0.0000e+00 - precision: 0.4634 - recall: 1.0000 - auc: 0.7476 - prc: 0.7603 - val_loss: 0.7956 - val_tp: 11.0000 - val_fp: 14.0000 - val_tn: 0.0000e+00 - val_fn: 0.0000e+00 - val_precision: 0.4400 - val_recall: 1.0000 - val_auc: 0.8799 - val_prc: 0.7167\n",
      "Epoch 70/200\n",
      "2/2 [==============================] - 0s 18ms/step - loss: 0.7860 - tp: 19.0000 - fp: 22.0000 - tn: 0.0000e+00 - fn: 0.0000e+00 - precision: 0.4634 - recall: 1.0000 - auc: 0.7428 - prc: 0.7622 - val_loss: 0.7887 - val_tp: 11.0000 - val_fp: 14.0000 - val_tn: 0.0000e+00 - val_fn: 0.0000e+00 - val_precision: 0.4400 - val_recall: 1.0000 - val_auc: 0.8831 - val_prc: 0.7191\n",
      "Epoch 71/200\n",
      "2/2 [==============================] - 0s 18ms/step - loss: 0.7801 - tp: 19.0000 - fp: 22.0000 - tn: 0.0000e+00 - fn: 0.0000e+00 - precision: 0.4634 - recall: 1.0000 - auc: 0.7344 - prc: 0.7621 - val_loss: 0.7819 - val_tp: 11.0000 - val_fp: 14.0000 - val_tn: 0.0000e+00 - val_fn: 0.0000e+00 - val_precision: 0.4400 - val_recall: 1.0000 - val_auc: 0.8831 - val_prc: 0.7191\n",
      "Epoch 72/200\n",
      "2/2 [==============================] - 0s 18ms/step - loss: 0.7741 - tp: 19.0000 - fp: 22.0000 - tn: 0.0000e+00 - fn: 0.0000e+00 - precision: 0.4634 - recall: 1.0000 - auc: 0.7440 - prc: 0.7698 - val_loss: 0.7752 - val_tp: 11.0000 - val_fp: 14.0000 - val_tn: 0.0000e+00 - val_fn: 0.0000e+00 - val_precision: 0.4400 - val_recall: 1.0000 - val_auc: 0.8766 - val_prc: 0.7142\n",
      "Epoch 73/200\n",
      "2/2 [==============================] - 0s 18ms/step - loss: 0.7682 - tp: 19.0000 - fp: 22.0000 - tn: 0.0000e+00 - fn: 0.0000e+00 - precision: 0.4634 - recall: 1.0000 - auc: 0.7321 - prc: 0.7613 - val_loss: 0.7686 - val_tp: 11.0000 - val_fp: 14.0000 - val_tn: 0.0000e+00 - val_fn: 0.0000e+00 - val_precision: 0.4400 - val_recall: 1.0000 - val_auc: 0.8766 - val_prc: 0.7142\n",
      "Epoch 74/200\n",
      "2/2 [==============================] - 0s 17ms/step - loss: 0.7627 - tp: 19.0000 - fp: 22.0000 - tn: 0.0000e+00 - fn: 0.0000e+00 - precision: 0.4634 - recall: 1.0000 - auc: 0.7392 - prc: 0.7375 - val_loss: 0.7623 - val_tp: 11.0000 - val_fp: 14.0000 - val_tn: 0.0000e+00 - val_fn: 0.0000e+00 - val_precision: 0.4400 - val_recall: 1.0000 - val_auc: 0.8831 - val_prc: 0.7191\n",
      "Epoch 75/200\n",
      "2/2 [==============================] - 0s 17ms/step - loss: 0.7574 - tp: 19.0000 - fp: 22.0000 - tn: 0.0000e+00 - fn: 0.0000e+00 - precision: 0.4634 - recall: 1.0000 - auc: 0.7428 - prc: 0.7590 - val_loss: 0.7563 - val_tp: 11.0000 - val_fp: 14.0000 - val_tn: 0.0000e+00 - val_fn: 0.0000e+00 - val_precision: 0.4400 - val_recall: 1.0000 - val_auc: 0.8831 - val_prc: 0.7191\n",
      "Epoch 76/200\n",
      "2/2 [==============================] - 0s 17ms/step - loss: 0.7517 - tp: 19.0000 - fp: 22.0000 - tn: 0.0000e+00 - fn: 0.0000e+00 - precision: 0.4634 - recall: 1.0000 - auc: 0.7500 - prc: 0.7704 - val_loss: 0.7507 - val_tp: 11.0000 - val_fp: 14.0000 - val_tn: 0.0000e+00 - val_fn: 0.0000e+00 - val_precision: 0.4400 - val_recall: 1.0000 - val_auc: 0.8701 - val_prc: 0.7099\n",
      "Epoch 77/200\n",
      "2/2 [==============================] - 0s 19ms/step - loss: 0.7471 - tp: 19.0000 - fp: 22.0000 - tn: 0.0000e+00 - fn: 0.0000e+00 - precision: 0.4634 - recall: 1.0000 - auc: 0.7440 - prc: 0.7587 - val_loss: 0.7451 - val_tp: 11.0000 - val_fp: 14.0000 - val_tn: 0.0000e+00 - val_fn: 0.0000e+00 - val_precision: 0.4400 - val_recall: 1.0000 - val_auc: 0.8701 - val_prc: 0.7099\n",
      "Epoch 78/200\n",
      "2/2 [==============================] - 0s 19ms/step - loss: 0.7420 - tp: 19.0000 - fp: 22.0000 - tn: 0.0000e+00 - fn: 0.0000e+00 - precision: 0.4634 - recall: 1.0000 - auc: 0.7356 - prc: 0.7530 - val_loss: 0.7398 - val_tp: 11.0000 - val_fp: 14.0000 - val_tn: 0.0000e+00 - val_fn: 0.0000e+00 - val_precision: 0.4400 - val_recall: 1.0000 - val_auc: 0.8734 - val_prc: 0.7119\n",
      "Epoch 79/200\n",
      "2/2 [==============================] - 0s 19ms/step - loss: 0.7382 - tp: 19.0000 - fp: 22.0000 - tn: 0.0000e+00 - fn: 0.0000e+00 - precision: 0.4634 - recall: 1.0000 - auc: 0.7356 - prc: 0.7504 - val_loss: 0.7347 - val_tp: 11.0000 - val_fp: 14.0000 - val_tn: 0.0000e+00 - val_fn: 0.0000e+00 - val_precision: 0.4400 - val_recall: 1.0000 - val_auc: 0.8831 - val_prc: 0.7340\n",
      "Epoch 80/200\n",
      "2/2 [==============================] - 0s 18ms/step - loss: 0.7330 - tp: 19.0000 - fp: 22.0000 - tn: 0.0000e+00 - fn: 0.0000e+00 - precision: 0.4634 - recall: 1.0000 - auc: 0.7572 - prc: 0.7626 - val_loss: 0.7300 - val_tp: 11.0000 - val_fp: 14.0000 - val_tn: 0.0000e+00 - val_fn: 0.0000e+00 - val_precision: 0.4400 - val_recall: 1.0000 - val_auc: 0.8831 - val_prc: 0.7340\n",
      "Epoch 81/200\n",
      "2/2 [==============================] - 0s 18ms/step - loss: 0.7287 - tp: 19.0000 - fp: 22.0000 - tn: 0.0000e+00 - fn: 0.0000e+00 - precision: 0.4634 - recall: 1.0000 - auc: 0.7560 - prc: 0.7771 - val_loss: 0.7251 - val_tp: 11.0000 - val_fp: 14.0000 - val_tn: 0.0000e+00 - val_fn: 0.0000e+00 - val_precision: 0.4400 - val_recall: 1.0000 - val_auc: 0.8701 - val_prc: 0.7256\n",
      "Epoch 82/200\n",
      "2/2 [==============================] - 0s 20ms/step - loss: 0.7241 - tp: 19.0000 - fp: 22.0000 - tn: 0.0000e+00 - fn: 0.0000e+00 - precision: 0.4634 - recall: 1.0000 - auc: 0.7560 - prc: 0.7768 - val_loss: 0.7200 - val_tp: 11.0000 - val_fp: 14.0000 - val_tn: 0.0000e+00 - val_fn: 0.0000e+00 - val_precision: 0.4400 - val_recall: 1.0000 - val_auc: 0.8669 - val_prc: 0.7226\n",
      "Epoch 83/200\n",
      "2/2 [==============================] - 0s 20ms/step - loss: 0.7195 - tp: 19.0000 - fp: 22.0000 - tn: 0.0000e+00 - fn: 0.0000e+00 - precision: 0.4634 - recall: 1.0000 - auc: 0.7656 - prc: 0.7859 - val_loss: 0.7147 - val_tp: 11.0000 - val_fp: 14.0000 - val_tn: 0.0000e+00 - val_fn: 0.0000e+00 - val_precision: 0.4400 - val_recall: 1.0000 - val_auc: 0.8734 - val_prc: 0.7274\n",
      "Epoch 84/200\n",
      "2/2 [==============================] - 0s 20ms/step - loss: 0.7159 - tp: 19.0000 - fp: 22.0000 - tn: 0.0000e+00 - fn: 0.0000e+00 - precision: 0.4634 - recall: 1.0000 - auc: 0.7596 - prc: 0.7569 - val_loss: 0.7094 - val_tp: 11.0000 - val_fp: 14.0000 - val_tn: 0.0000e+00 - val_fn: 0.0000e+00 - val_precision: 0.4400 - val_recall: 1.0000 - val_auc: 0.8701 - val_prc: 0.7825\n",
      "Epoch 85/200\n"
     ]
    },
    {
     "name": "stdout",
     "output_type": "stream",
     "text": [
      "2/2 [==============================] - 0s 19ms/step - loss: 0.7117 - tp: 19.0000 - fp: 22.0000 - tn: 0.0000e+00 - fn: 0.0000e+00 - precision: 0.4634 - recall: 1.0000 - auc: 0.7512 - prc: 0.7624 - val_loss: 0.7045 - val_tp: 11.0000 - val_fp: 14.0000 - val_tn: 0.0000e+00 - val_fn: 0.0000e+00 - val_precision: 0.4400 - val_recall: 1.0000 - val_auc: 0.8734 - val_prc: 0.7842\n",
      "Epoch 86/200\n",
      "2/2 [==============================] - 0s 19ms/step - loss: 0.7076 - tp: 19.0000 - fp: 22.0000 - tn: 0.0000e+00 - fn: 0.0000e+00 - precision: 0.4634 - recall: 1.0000 - auc: 0.7500 - prc: 0.7564 - val_loss: 0.7000 - val_tp: 11.0000 - val_fp: 14.0000 - val_tn: 0.0000e+00 - val_fn: 0.0000e+00 - val_precision: 0.4400 - val_recall: 1.0000 - val_auc: 0.8766 - val_prc: 0.7873\n",
      "Epoch 87/200\n",
      "2/2 [==============================] - 0s 18ms/step - loss: 0.7027 - tp: 19.0000 - fp: 22.0000 - tn: 0.0000e+00 - fn: 0.0000e+00 - precision: 0.4634 - recall: 1.0000 - auc: 0.7656 - prc: 0.7736 - val_loss: 0.6957 - val_tp: 11.0000 - val_fp: 14.0000 - val_tn: 0.0000e+00 - val_fn: 0.0000e+00 - val_precision: 0.4400 - val_recall: 1.0000 - val_auc: 0.8636 - val_prc: 0.7779\n",
      "Epoch 88/200\n",
      "2/2 [==============================] - 0s 19ms/step - loss: 0.7002 - tp: 19.0000 - fp: 22.0000 - tn: 0.0000e+00 - fn: 0.0000e+00 - precision: 0.4634 - recall: 1.0000 - auc: 0.7644 - prc: 0.7707 - val_loss: 0.6914 - val_tp: 11.0000 - val_fp: 14.0000 - val_tn: 0.0000e+00 - val_fn: 0.0000e+00 - val_precision: 0.4400 - val_recall: 1.0000 - val_auc: 0.8701 - val_prc: 0.7701\n",
      "Epoch 89/200\n",
      "2/2 [==============================] - 0s 17ms/step - loss: 0.6968 - tp: 19.0000 - fp: 22.0000 - tn: 0.0000e+00 - fn: 0.0000e+00 - precision: 0.4634 - recall: 1.0000 - auc: 0.7536 - prc: 0.7526 - val_loss: 0.6876 - val_tp: 11.0000 - val_fp: 14.0000 - val_tn: 0.0000e+00 - val_fn: 0.0000e+00 - val_precision: 0.4400 - val_recall: 1.0000 - val_auc: 0.8636 - val_prc: 0.7814\n",
      "Epoch 90/200\n",
      "2/2 [==============================] - 0s 17ms/step - loss: 0.6932 - tp: 19.0000 - fp: 22.0000 - tn: 0.0000e+00 - fn: 0.0000e+00 - precision: 0.4634 - recall: 1.0000 - auc: 0.7632 - prc: 0.7766 - val_loss: 0.6842 - val_tp: 11.0000 - val_fp: 14.0000 - val_tn: 0.0000e+00 - val_fn: 0.0000e+00 - val_precision: 0.4400 - val_recall: 1.0000 - val_auc: 0.8571 - val_prc: 0.7754\n",
      "Epoch 91/200\n",
      "2/2 [==============================] - 0s 17ms/step - loss: 0.6903 - tp: 19.0000 - fp: 22.0000 - tn: 0.0000e+00 - fn: 0.0000e+00 - precision: 0.4634 - recall: 1.0000 - auc: 0.7608 - prc: 0.7587 - val_loss: 0.6810 - val_tp: 11.0000 - val_fp: 13.0000 - val_tn: 1.0000 - val_fn: 0.0000e+00 - val_precision: 0.4583 - val_recall: 1.0000 - val_auc: 0.8604 - val_prc: 0.7776\n",
      "Epoch 92/200\n",
      "2/2 [==============================] - 0s 17ms/step - loss: 0.6878 - tp: 18.0000 - fp: 22.0000 - tn: 0.0000e+00 - fn: 1.0000 - precision: 0.4500 - recall: 0.9474 - auc: 0.7644 - prc: 0.7797 - val_loss: 0.6780 - val_tp: 11.0000 - val_fp: 13.0000 - val_tn: 1.0000 - val_fn: 0.0000e+00 - val_precision: 0.4583 - val_recall: 1.0000 - val_auc: 0.8636 - val_prc: 0.7793\n",
      "Epoch 93/200\n",
      "2/2 [==============================] - 0s 17ms/step - loss: 0.6847 - tp: 18.0000 - fp: 22.0000 - tn: 0.0000e+00 - fn: 1.0000 - precision: 0.4500 - recall: 0.9474 - auc: 0.7656 - prc: 0.7702 - val_loss: 0.6751 - val_tp: 11.0000 - val_fp: 12.0000 - val_tn: 2.0000 - val_fn: 0.0000e+00 - val_precision: 0.4783 - val_recall: 1.0000 - val_auc: 0.8669 - val_prc: 0.7818\n",
      "Epoch 94/200\n",
      "2/2 [==============================] - 0s 18ms/step - loss: 0.6826 - tp: 18.0000 - fp: 21.0000 - tn: 1.0000 - fn: 1.0000 - precision: 0.4615 - recall: 0.9474 - auc: 0.7644 - prc: 0.7652 - val_loss: 0.6721 - val_tp: 11.0000 - val_fp: 12.0000 - val_tn: 2.0000 - val_fn: 0.0000e+00 - val_precision: 0.4783 - val_recall: 1.0000 - val_auc: 0.8636 - val_prc: 0.7785\n",
      "Epoch 95/200\n",
      "2/2 [==============================] - 0s 18ms/step - loss: 0.6798 - tp: 18.0000 - fp: 20.0000 - tn: 2.0000 - fn: 1.0000 - precision: 0.4737 - recall: 0.9474 - auc: 0.7679 - prc: 0.7684 - val_loss: 0.6693 - val_tp: 11.0000 - val_fp: 12.0000 - val_tn: 2.0000 - val_fn: 0.0000e+00 - val_precision: 0.4783 - val_recall: 1.0000 - val_auc: 0.8539 - val_prc: 0.7738\n",
      "Epoch 96/200\n",
      "2/2 [==============================] - 0s 18ms/step - loss: 0.6784 - tp: 18.0000 - fp: 19.0000 - tn: 3.0000 - fn: 1.0000 - precision: 0.4865 - recall: 0.9474 - auc: 0.7667 - prc: 0.7721 - val_loss: 0.6667 - val_tp: 11.0000 - val_fp: 12.0000 - val_tn: 2.0000 - val_fn: 0.0000e+00 - val_precision: 0.4783 - val_recall: 1.0000 - val_auc: 0.8442 - val_prc: 0.7670\n",
      "Epoch 97/200\n",
      "2/2 [==============================] - 0s 18ms/step - loss: 0.6757 - tp: 18.0000 - fp: 18.0000 - tn: 4.0000 - fn: 1.0000 - precision: 0.5000 - recall: 0.9474 - auc: 0.7727 - prc: 0.7895 - val_loss: 0.6644 - val_tp: 11.0000 - val_fp: 12.0000 - val_tn: 2.0000 - val_fn: 0.0000e+00 - val_precision: 0.4783 - val_recall: 1.0000 - val_auc: 0.8474 - val_prc: 0.7717\n",
      "Epoch 98/200\n",
      "2/2 [==============================] - 0s 17ms/step - loss: 0.6739 - tp: 18.0000 - fp: 16.0000 - tn: 6.0000 - fn: 1.0000 - precision: 0.5294 - recall: 0.9474 - auc: 0.7727 - prc: 0.7922 - val_loss: 0.6623 - val_tp: 11.0000 - val_fp: 11.0000 - val_tn: 3.0000 - val_fn: 0.0000e+00 - val_precision: 0.5000 - val_recall: 1.0000 - val_auc: 0.8506 - val_prc: 0.7922\n",
      "Epoch 99/200\n",
      "2/2 [==============================] - 0s 18ms/step - loss: 0.6719 - tp: 18.0000 - fp: 16.0000 - tn: 6.0000 - fn: 1.0000 - precision: 0.5294 - recall: 0.9474 - auc: 0.7667 - prc: 0.7671 - val_loss: 0.6603 - val_tp: 11.0000 - val_fp: 10.0000 - val_tn: 4.0000 - val_fn: 0.0000e+00 - val_precision: 0.5238 - val_recall: 1.0000 - val_auc: 0.8506 - val_prc: 0.7922\n",
      "Epoch 100/200\n",
      "2/2 [==============================] - 0s 18ms/step - loss: 0.6705 - tp: 18.0000 - fp: 14.0000 - tn: 8.0000 - fn: 1.0000 - precision: 0.5625 - recall: 0.9474 - auc: 0.7656 - prc: 0.7764 - val_loss: 0.6584 - val_tp: 10.0000 - val_fp: 6.0000 - val_tn: 8.0000 - val_fn: 1.0000 - val_precision: 0.6250 - val_recall: 0.9091 - val_auc: 0.8442 - val_prc: 0.7825\n",
      "Epoch 101/200\n",
      "2/2 [==============================] - 0s 16ms/step - loss: 0.6691 - tp: 17.0000 - fp: 14.0000 - tn: 8.0000 - fn: 2.0000 - precision: 0.5484 - recall: 0.8947 - auc: 0.7679 - prc: 0.7779 - val_loss: 0.6567 - val_tp: 10.0000 - val_fp: 6.0000 - val_tn: 8.0000 - val_fn: 1.0000 - val_precision: 0.6250 - val_recall: 0.9091 - val_auc: 0.8377 - val_prc: 0.7589\n",
      "Epoch 102/200\n",
      "2/2 [==============================] - 0s 18ms/step - loss: 0.6675 - tp: 16.0000 - fp: 13.0000 - tn: 9.0000 - fn: 3.0000 - precision: 0.5517 - recall: 0.8421 - auc: 0.7703 - prc: 0.7771 - val_loss: 0.6552 - val_tp: 10.0000 - val_fp: 6.0000 - val_tn: 8.0000 - val_fn: 1.0000 - val_precision: 0.6250 - val_recall: 0.9091 - val_auc: 0.8442 - val_prc: 0.7863\n",
      "Epoch 103/200\n",
      "2/2 [==============================] - 0s 18ms/step - loss: 0.6667 - tp: 16.0000 - fp: 11.0000 - tn: 11.0000 - fn: 3.0000 - precision: 0.5926 - recall: 0.8421 - auc: 0.7691 - prc: 0.7820 - val_loss: 0.6539 - val_tp: 9.0000 - val_fp: 4.0000 - val_tn: 10.0000 - val_fn: 2.0000 - val_precision: 0.6923 - val_recall: 0.8182 - val_auc: 0.8474 - val_prc: 0.7909\n",
      "Epoch 104/200\n",
      "2/2 [==============================] - 0s 18ms/step - loss: 0.6657 - tp: 16.0000 - fp: 10.0000 - tn: 12.0000 - fn: 3.0000 - precision: 0.6154 - recall: 0.8421 - auc: 0.7656 - prc: 0.7714 - val_loss: 0.6529 - val_tp: 9.0000 - val_fp: 4.0000 - val_tn: 10.0000 - val_fn: 2.0000 - val_precision: 0.6923 - val_recall: 0.8182 - val_auc: 0.8474 - val_prc: 0.7858\n",
      "Epoch 105/200\n",
      "2/2 [==============================] - 0s 19ms/step - loss: 0.6646 - tp: 16.0000 - fp: 9.0000 - tn: 13.0000 - fn: 3.0000 - precision: 0.6400 - recall: 0.8421 - auc: 0.7727 - prc: 0.7855 - val_loss: 0.6523 - val_tp: 9.0000 - val_fp: 3.0000 - val_tn: 11.0000 - val_fn: 2.0000 - val_precision: 0.7500 - val_recall: 0.8182 - val_auc: 0.8344 - val_prc: 0.7637\n",
      "Epoch 106/200\n",
      "2/2 [==============================] - 0s 17ms/step - loss: 0.6637 - tp: 16.0000 - fp: 9.0000 - tn: 13.0000 - fn: 3.0000 - precision: 0.6400 - recall: 0.8421 - auc: 0.7799 - prc: 0.7924 - val_loss: 0.6517 - val_tp: 9.0000 - val_fp: 3.0000 - val_tn: 11.0000 - val_fn: 2.0000 - val_precision: 0.7500 - val_recall: 0.8182 - val_auc: 0.8442 - val_prc: 0.7863\n"
     ]
    },
    {
     "name": "stdout",
     "output_type": "stream",
     "text": [
      "Epoch 107/200\n",
      "2/2 [==============================] - 0s 18ms/step - loss: 0.6631 - tp: 16.0000 - fp: 9.0000 - tn: 13.0000 - fn: 3.0000 - precision: 0.6400 - recall: 0.8421 - auc: 0.7811 - prc: 0.8034 - val_loss: 0.6509 - val_tp: 8.0000 - val_fp: 3.0000 - val_tn: 11.0000 - val_fn: 3.0000 - val_precision: 0.7273 - val_recall: 0.7273 - val_auc: 0.8344 - val_prc: 0.7802\n",
      "Epoch 108/200\n",
      "2/2 [==============================] - 0s 17ms/step - loss: 0.6624 - tp: 16.0000 - fp: 9.0000 - tn: 13.0000 - fn: 3.0000 - precision: 0.6400 - recall: 0.8421 - auc: 0.7763 - prc: 0.7905 - val_loss: 0.6502 - val_tp: 8.0000 - val_fp: 3.0000 - val_tn: 11.0000 - val_fn: 3.0000 - val_precision: 0.7273 - val_recall: 0.7273 - val_auc: 0.8442 - val_prc: 0.7863\n",
      "Epoch 109/200\n",
      "2/2 [==============================] - 0s 23ms/step - loss: 0.6615 - tp: 16.0000 - fp: 9.0000 - tn: 13.0000 - fn: 3.0000 - precision: 0.6400 - recall: 0.8421 - auc: 0.7811 - prc: 0.7969 - val_loss: 0.6495 - val_tp: 8.0000 - val_fp: 3.0000 - val_tn: 11.0000 - val_fn: 3.0000 - val_precision: 0.7273 - val_recall: 0.7273 - val_auc: 0.8506 - val_prc: 0.7905\n",
      "Epoch 110/200\n",
      "2/2 [==============================] - 0s 17ms/step - loss: 0.6611 - tp: 16.0000 - fp: 9.0000 - tn: 13.0000 - fn: 3.0000 - precision: 0.6400 - recall: 0.8421 - auc: 0.7775 - prc: 0.7971 - val_loss: 0.6487 - val_tp: 8.0000 - val_fp: 2.0000 - val_tn: 12.0000 - val_fn: 3.0000 - val_precision: 0.8000 - val_recall: 0.7273 - val_auc: 0.8279 - val_prc: 0.7718\n",
      "Epoch 111/200\n",
      "2/2 [==============================] - 0s 19ms/step - loss: 0.6601 - tp: 15.0000 - fp: 9.0000 - tn: 13.0000 - fn: 4.0000 - precision: 0.6250 - recall: 0.7895 - auc: 0.7799 - prc: 0.7957 - val_loss: 0.6480 - val_tp: 8.0000 - val_fp: 2.0000 - val_tn: 12.0000 - val_fn: 3.0000 - val_precision: 0.8000 - val_recall: 0.7273 - val_auc: 0.8506 - val_prc: 0.7905\n",
      "Epoch 112/200\n",
      "2/2 [==============================] - 0s 17ms/step - loss: 0.6596 - tp: 15.0000 - fp: 8.0000 - tn: 14.0000 - fn: 4.0000 - precision: 0.6522 - recall: 0.7895 - auc: 0.7859 - prc: 0.8110 - val_loss: 0.6473 - val_tp: 8.0000 - val_fp: 2.0000 - val_tn: 12.0000 - val_fn: 3.0000 - val_precision: 0.8000 - val_recall: 0.7273 - val_auc: 0.8344 - val_prc: 0.7814\n",
      "Epoch 113/200\n",
      "2/2 [==============================] - 0s 20ms/step - loss: 0.6588 - tp: 14.0000 - fp: 8.0000 - tn: 14.0000 - fn: 5.0000 - precision: 0.6364 - recall: 0.7368 - auc: 0.7799 - prc: 0.7982 - val_loss: 0.6467 - val_tp: 8.0000 - val_fp: 2.0000 - val_tn: 12.0000 - val_fn: 3.0000 - val_precision: 0.8000 - val_recall: 0.7273 - val_auc: 0.8474 - val_prc: 0.7878\n",
      "Epoch 114/200\n",
      "2/2 [==============================] - 0s 18ms/step - loss: 0.6581 - tp: 14.0000 - fp: 8.0000 - tn: 14.0000 - fn: 5.0000 - precision: 0.6364 - recall: 0.7368 - auc: 0.7799 - prc: 0.7939 - val_loss: 0.6461 - val_tp: 8.0000 - val_fp: 2.0000 - val_tn: 12.0000 - val_fn: 3.0000 - val_precision: 0.8000 - val_recall: 0.7273 - val_auc: 0.8344 - val_prc: 0.7828\n",
      "Epoch 115/200\n",
      "2/2 [==============================] - 0s 17ms/step - loss: 0.6575 - tp: 13.0000 - fp: 7.0000 - tn: 15.0000 - fn: 6.0000 - precision: 0.6500 - recall: 0.6842 - auc: 0.7919 - prc: 0.8152 - val_loss: 0.6454 - val_tp: 8.0000 - val_fp: 2.0000 - val_tn: 12.0000 - val_fn: 3.0000 - val_precision: 0.8000 - val_recall: 0.7273 - val_auc: 0.8409 - val_prc: 0.7781\n",
      "Epoch 116/200\n",
      "2/2 [==============================] - 0s 17ms/step - loss: 0.6570 - tp: 13.0000 - fp: 5.0000 - tn: 17.0000 - fn: 6.0000 - precision: 0.7222 - recall: 0.6842 - auc: 0.7883 - prc: 0.8049 - val_loss: 0.6448 - val_tp: 8.0000 - val_fp: 2.0000 - val_tn: 12.0000 - val_fn: 3.0000 - val_precision: 0.8000 - val_recall: 0.7273 - val_auc: 0.8344 - val_prc: 0.7828\n",
      "Epoch 117/200\n",
      "2/2 [==============================] - 0s 19ms/step - loss: 0.6562 - tp: 13.0000 - fp: 5.0000 - tn: 17.0000 - fn: 6.0000 - precision: 0.7222 - recall: 0.6842 - auc: 0.7955 - prc: 0.8187 - val_loss: 0.6443 - val_tp: 8.0000 - val_fp: 2.0000 - val_tn: 12.0000 - val_fn: 3.0000 - val_precision: 0.8000 - val_recall: 0.7273 - val_auc: 0.8409 - val_prc: 0.7950\n",
      "Epoch 118/200\n",
      "2/2 [==============================] - 0s 16ms/step - loss: 0.6557 - tp: 12.0000 - fp: 4.0000 - tn: 18.0000 - fn: 7.0000 - precision: 0.7500 - recall: 0.6316 - auc: 0.7919 - prc: 0.8152 - val_loss: 0.6438 - val_tp: 8.0000 - val_fp: 2.0000 - val_tn: 12.0000 - val_fn: 3.0000 - val_precision: 0.8000 - val_recall: 0.7273 - val_auc: 0.8442 - val_prc: 0.7831\n",
      "Epoch 119/200\n",
      "2/2 [==============================] - 0s 17ms/step - loss: 0.6553 - tp: 12.0000 - fp: 3.0000 - tn: 19.0000 - fn: 7.0000 - precision: 0.8000 - recall: 0.6316 - auc: 0.7907 - prc: 0.8077 - val_loss: 0.6435 - val_tp: 8.0000 - val_fp: 2.0000 - val_tn: 12.0000 - val_fn: 3.0000 - val_precision: 0.8000 - val_recall: 0.7273 - val_auc: 0.8442 - val_prc: 0.7809\n",
      "Epoch 120/200\n",
      "2/2 [==============================] - 0s 18ms/step - loss: 0.6547 - tp: 12.0000 - fp: 3.0000 - tn: 19.0000 - fn: 7.0000 - precision: 0.8000 - recall: 0.6316 - auc: 0.7955 - prc: 0.8112 - val_loss: 0.6433 - val_tp: 8.0000 - val_fp: 2.0000 - val_tn: 12.0000 - val_fn: 3.0000 - val_precision: 0.8000 - val_recall: 0.7273 - val_auc: 0.8442 - val_prc: 0.7809\n",
      "Epoch 121/200\n",
      "2/2 [==============================] - 0s 18ms/step - loss: 0.6542 - tp: 12.0000 - fp: 3.0000 - tn: 19.0000 - fn: 7.0000 - precision: 0.8000 - recall: 0.6316 - auc: 0.7955 - prc: 0.8112 - val_loss: 0.6431 - val_tp: 8.0000 - val_fp: 2.0000 - val_tn: 12.0000 - val_fn: 3.0000 - val_precision: 0.8000 - val_recall: 0.7273 - val_auc: 0.8474 - val_prc: 0.7829\n",
      "Epoch 122/200\n",
      "2/2 [==============================] - 0s 18ms/step - loss: 0.6538 - tp: 12.0000 - fp: 3.0000 - tn: 19.0000 - fn: 7.0000 - precision: 0.8000 - recall: 0.6316 - auc: 0.7990 - prc: 0.8127 - val_loss: 0.6428 - val_tp: 8.0000 - val_fp: 2.0000 - val_tn: 12.0000 - val_fn: 3.0000 - val_precision: 0.8000 - val_recall: 0.7273 - val_auc: 0.8377 - val_prc: 0.7842\n",
      "Epoch 123/200\n",
      "2/2 [==============================] - 0s 18ms/step - loss: 0.6534 - tp: 12.0000 - fp: 3.0000 - tn: 19.0000 - fn: 7.0000 - precision: 0.8000 - recall: 0.6316 - auc: 0.8026 - prc: 0.8217 - val_loss: 0.6426 - val_tp: 7.0000 - val_fp: 2.0000 - val_tn: 12.0000 - val_fn: 4.0000 - val_precision: 0.7778 - val_recall: 0.6364 - val_auc: 0.8409 - val_prc: 0.7855\n",
      "Epoch 124/200\n",
      "2/2 [==============================] - 0s 18ms/step - loss: 0.6529 - tp: 12.0000 - fp: 3.0000 - tn: 19.0000 - fn: 7.0000 - precision: 0.8000 - recall: 0.6316 - auc: 0.8026 - prc: 0.8217 - val_loss: 0.6424 - val_tp: 7.0000 - val_fp: 2.0000 - val_tn: 12.0000 - val_fn: 4.0000 - val_precision: 0.7778 - val_recall: 0.6364 - val_auc: 0.8344 - val_prc: 0.7813\n",
      "Epoch 125/200\n",
      "2/2 [==============================] - 0s 17ms/step - loss: 0.6525 - tp: 12.0000 - fp: 3.0000 - tn: 19.0000 - fn: 7.0000 - precision: 0.8000 - recall: 0.6316 - auc: 0.8098 - prc: 0.8300 - val_loss: 0.6420 - val_tp: 7.0000 - val_fp: 2.0000 - val_tn: 12.0000 - val_fn: 4.0000 - val_precision: 0.7778 - val_recall: 0.6364 - val_auc: 0.8409 - val_prc: 0.7841\n",
      "Epoch 126/200\n",
      "2/2 [==============================] - 0s 16ms/step - loss: 0.6520 - tp: 12.0000 - fp: 3.0000 - tn: 19.0000 - fn: 7.0000 - precision: 0.8000 - recall: 0.6316 - auc: 0.8050 - prc: 0.8255 - val_loss: 0.6416 - val_tp: 7.0000 - val_fp: 2.0000 - val_tn: 12.0000 - val_fn: 4.0000 - val_precision: 0.7778 - val_recall: 0.6364 - val_auc: 0.8474 - val_prc: 0.7878\n",
      "Epoch 127/200\n",
      "2/2 [==============================] - 0s 17ms/step - loss: 0.6514 - tp: 12.0000 - fp: 3.0000 - tn: 19.0000 - fn: 7.0000 - precision: 0.8000 - recall: 0.6316 - auc: 0.8038 - prc: 0.8256 - val_loss: 0.6411 - val_tp: 7.0000 - val_fp: 2.0000 - val_tn: 12.0000 - val_fn: 4.0000 - val_precision: 0.7778 - val_recall: 0.6364 - val_auc: 0.8506 - val_prc: 0.7974\n",
      "Epoch 128/200\n",
      "2/2 [==============================] - 0s 17ms/step - loss: 0.6508 - tp: 12.0000 - fp: 3.0000 - tn: 19.0000 - fn: 7.0000 - precision: 0.8000 - recall: 0.6316 - auc: 0.8026 - prc: 0.8249 - val_loss: 0.6405 - val_tp: 7.0000 - val_fp: 2.0000 - val_tn: 12.0000 - val_fn: 4.0000 - val_precision: 0.7778 - val_recall: 0.6364 - val_auc: 0.8442 - val_prc: 0.7963\n",
      "Epoch 129/200\n"
     ]
    },
    {
     "name": "stdout",
     "output_type": "stream",
     "text": [
      "2/2 [==============================] - 0s 18ms/step - loss: 0.6505 - tp: 12.0000 - fp: 3.0000 - tn: 19.0000 - fn: 7.0000 - precision: 0.8000 - recall: 0.6316 - auc: 0.8122 - prc: 0.8311 - val_loss: 0.6399 - val_tp: 7.0000 - val_fp: 2.0000 - val_tn: 12.0000 - val_fn: 4.0000 - val_precision: 0.7778 - val_recall: 0.6364 - val_auc: 0.8506 - val_prc: 0.7974\n",
      "Epoch 130/200\n",
      "2/2 [==============================] - 0s 17ms/step - loss: 0.6497 - tp: 12.0000 - fp: 3.0000 - tn: 19.0000 - fn: 7.0000 - precision: 0.8000 - recall: 0.6316 - auc: 0.8038 - prc: 0.8262 - val_loss: 0.6394 - val_tp: 7.0000 - val_fp: 2.0000 - val_tn: 12.0000 - val_fn: 4.0000 - val_precision: 0.7778 - val_recall: 0.6364 - val_auc: 0.8442 - val_prc: 0.7963\n",
      "Epoch 131/200\n",
      "2/2 [==============================] - 0s 20ms/step - loss: 0.6491 - tp: 12.0000 - fp: 3.0000 - tn: 19.0000 - fn: 7.0000 - precision: 0.8000 - recall: 0.6316 - auc: 0.8110 - prc: 0.8331 - val_loss: 0.6388 - val_tp: 5.0000 - val_fp: 1.0000 - val_tn: 13.0000 - val_fn: 6.0000 - val_precision: 0.8333 - val_recall: 0.4545 - val_auc: 0.8506 - val_prc: 0.7898\n",
      "Epoch 132/200\n",
      "2/2 [==============================] - 0s 17ms/step - loss: 0.6491 - tp: 10.0000 - fp: 3.0000 - tn: 19.0000 - fn: 9.0000 - precision: 0.7692 - recall: 0.5263 - auc: 0.8134 - prc: 0.8338 - val_loss: 0.6384 - val_tp: 5.0000 - val_fp: 1.0000 - val_tn: 13.0000 - val_fn: 6.0000 - val_precision: 0.8333 - val_recall: 0.4545 - val_auc: 0.8409 - val_prc: 0.7917\n",
      "Epoch 133/200\n",
      "2/2 [==============================] - 0s 17ms/step - loss: 0.6482 - tp: 10.0000 - fp: 3.0000 - tn: 19.0000 - fn: 9.0000 - precision: 0.7692 - recall: 0.5263 - auc: 0.8206 - prc: 0.8441 - val_loss: 0.6380 - val_tp: 5.0000 - val_fp: 1.0000 - val_tn: 13.0000 - val_fn: 6.0000 - val_precision: 0.8333 - val_recall: 0.4545 - val_auc: 0.8442 - val_prc: 0.7963\n",
      "Epoch 134/200\n",
      "2/2 [==============================] - 0s 17ms/step - loss: 0.6478 - tp: 10.0000 - fp: 3.0000 - tn: 19.0000 - fn: 9.0000 - precision: 0.7692 - recall: 0.5263 - auc: 0.8146 - prc: 0.8387 - val_loss: 0.6377 - val_tp: 5.0000 - val_fp: 1.0000 - val_tn: 13.0000 - val_fn: 6.0000 - val_precision: 0.8333 - val_recall: 0.4545 - val_auc: 0.8506 - val_prc: 0.7994\n",
      "Epoch 135/200\n",
      "2/2 [==============================] - 0s 17ms/step - loss: 0.6473 - tp: 10.0000 - fp: 3.0000 - tn: 19.0000 - fn: 9.0000 - precision: 0.7692 - recall: 0.5263 - auc: 0.8158 - prc: 0.8367 - val_loss: 0.6373 - val_tp: 5.0000 - val_fp: 1.0000 - val_tn: 13.0000 - val_fn: 6.0000 - val_precision: 0.8333 - val_recall: 0.4545 - val_auc: 0.8442 - val_prc: 0.7977\n",
      "Epoch 136/200\n",
      "2/2 [==============================] - 0s 18ms/step - loss: 0.6468 - tp: 10.0000 - fp: 3.0000 - tn: 19.0000 - fn: 9.0000 - precision: 0.7692 - recall: 0.5263 - auc: 0.8218 - prc: 0.8393 - val_loss: 0.6369 - val_tp: 4.0000 - val_fp: 1.0000 - val_tn: 13.0000 - val_fn: 7.0000 - val_precision: 0.8000 - val_recall: 0.3636 - val_auc: 0.8442 - val_prc: 0.7893\n",
      "Epoch 137/200\n",
      "2/2 [==============================] - 0s 17ms/step - loss: 0.6462 - tp: 9.0000 - fp: 2.0000 - tn: 20.0000 - fn: 10.0000 - precision: 0.8182 - recall: 0.4737 - auc: 0.8218 - prc: 0.8444 - val_loss: 0.6365 - val_tp: 4.0000 - val_fp: 1.0000 - val_tn: 13.0000 - val_fn: 7.0000 - val_precision: 0.8000 - val_recall: 0.3636 - val_auc: 0.8539 - val_prc: 0.8020\n",
      "Epoch 138/200\n",
      "2/2 [==============================] - 0s 18ms/step - loss: 0.6461 - tp: 9.0000 - fp: 0.0000e+00 - tn: 22.0000 - fn: 10.0000 - precision: 1.0000 - recall: 0.4737 - auc: 0.8254 - prc: 0.8463 - val_loss: 0.6361 - val_tp: 4.0000 - val_fp: 1.0000 - val_tn: 13.0000 - val_fn: 7.0000 - val_precision: 0.8000 - val_recall: 0.3636 - val_auc: 0.8409 - val_prc: 0.7917\n",
      "Epoch 139/200\n",
      "2/2 [==============================] - 0s 18ms/step - loss: 0.6454 - tp: 9.0000 - fp: 0.0000e+00 - tn: 22.0000 - fn: 10.0000 - precision: 1.0000 - recall: 0.4737 - auc: 0.8313 - prc: 0.8498 - val_loss: 0.6358 - val_tp: 4.0000 - val_fp: 1.0000 - val_tn: 13.0000 - val_fn: 7.0000 - val_precision: 0.8000 - val_recall: 0.3636 - val_auc: 0.8506 - val_prc: 0.7994\n",
      "Epoch 140/200\n",
      "2/2 [==============================] - 0s 18ms/step - loss: 0.6450 - tp: 8.0000 - fp: 0.0000e+00 - tn: 22.0000 - fn: 11.0000 - precision: 1.0000 - recall: 0.4211 - auc: 0.8254 - prc: 0.8462 - val_loss: 0.6355 - val_tp: 4.0000 - val_fp: 1.0000 - val_tn: 13.0000 - val_fn: 7.0000 - val_precision: 0.8000 - val_recall: 0.3636 - val_auc: 0.8442 - val_prc: 0.7963\n",
      "Epoch 141/200\n",
      "2/2 [==============================] - 0s 17ms/step - loss: 0.6448 - tp: 8.0000 - fp: 0.0000e+00 - tn: 22.0000 - fn: 11.0000 - precision: 1.0000 - recall: 0.4211 - auc: 0.8289 - prc: 0.8484 - val_loss: 0.6352 - val_tp: 3.0000 - val_fp: 1.0000 - val_tn: 13.0000 - val_fn: 8.0000 - val_precision: 0.7500 - val_recall: 0.2727 - val_auc: 0.8539 - val_prc: 0.8045\n",
      "Epoch 142/200\n",
      "2/2 [==============================] - 0s 18ms/step - loss: 0.6444 - tp: 8.0000 - fp: 0.0000e+00 - tn: 22.0000 - fn: 11.0000 - precision: 1.0000 - recall: 0.4211 - auc: 0.8230 - prc: 0.8450 - val_loss: 0.6349 - val_tp: 3.0000 - val_fp: 1.0000 - val_tn: 13.0000 - val_fn: 8.0000 - val_precision: 0.7500 - val_recall: 0.2727 - val_auc: 0.8571 - val_prc: 0.8160\n",
      "Epoch 143/200\n",
      "2/2 [==============================] - 0s 17ms/step - loss: 0.6439 - tp: 8.0000 - fp: 0.0000e+00 - tn: 22.0000 - fn: 11.0000 - precision: 1.0000 - recall: 0.4211 - auc: 0.8278 - prc: 0.8471 - val_loss: 0.6348 - val_tp: 3.0000 - val_fp: 1.0000 - val_tn: 13.0000 - val_fn: 8.0000 - val_precision: 0.7500 - val_recall: 0.2727 - val_auc: 0.8506 - val_prc: 0.8119\n",
      "Epoch 144/200\n",
      "2/2 [==============================] - 0s 17ms/step - loss: 0.6436 - tp: 8.0000 - fp: 0.0000e+00 - tn: 22.0000 - fn: 11.0000 - precision: 1.0000 - recall: 0.4211 - auc: 0.8325 - prc: 0.8521 - val_loss: 0.6346 - val_tp: 3.0000 - val_fp: 1.0000 - val_tn: 13.0000 - val_fn: 8.0000 - val_precision: 0.7500 - val_recall: 0.2727 - val_auc: 0.8442 - val_prc: 0.8088\n",
      "Epoch 145/200\n",
      "2/2 [==============================] - 0s 17ms/step - loss: 0.6432 - tp: 8.0000 - fp: 0.0000e+00 - tn: 22.0000 - fn: 11.0000 - precision: 1.0000 - recall: 0.4211 - auc: 0.8337 - prc: 0.8524 - val_loss: 0.6344 - val_tp: 3.0000 - val_fp: 1.0000 - val_tn: 13.0000 - val_fn: 8.0000 - val_precision: 0.7500 - val_recall: 0.2727 - val_auc: 0.8506 - val_prc: 0.8119\n",
      "Epoch 146/200\n",
      "2/2 [==============================] - 0s 17ms/step - loss: 0.6426 - tp: 8.0000 - fp: 0.0000e+00 - tn: 22.0000 - fn: 11.0000 - precision: 1.0000 - recall: 0.4211 - auc: 0.8337 - prc: 0.8524 - val_loss: 0.6342 - val_tp: 3.0000 - val_fp: 1.0000 - val_tn: 13.0000 - val_fn: 8.0000 - val_precision: 0.7500 - val_recall: 0.2727 - val_auc: 0.8442 - val_prc: 0.8088\n",
      "Epoch 147/200\n",
      "2/2 [==============================] - 0s 17ms/step - loss: 0.6422 - tp: 8.0000 - fp: 0.0000e+00 - tn: 22.0000 - fn: 11.0000 - precision: 1.0000 - recall: 0.4211 - auc: 0.8337 - prc: 0.8524 - val_loss: 0.6340 - val_tp: 3.0000 - val_fp: 1.0000 - val_tn: 13.0000 - val_fn: 8.0000 - val_precision: 0.7500 - val_recall: 0.2727 - val_auc: 0.8442 - val_prc: 0.8088\n",
      "Epoch 148/200\n",
      "2/2 [==============================] - 0s 18ms/step - loss: 0.6417 - tp: 8.0000 - fp: 0.0000e+00 - tn: 22.0000 - fn: 11.0000 - precision: 1.0000 - recall: 0.4211 - auc: 0.8361 - prc: 0.8547 - val_loss: 0.6338 - val_tp: 3.0000 - val_fp: 1.0000 - val_tn: 13.0000 - val_fn: 8.0000 - val_precision: 0.7500 - val_recall: 0.2727 - val_auc: 0.8474 - val_prc: 0.7979\n",
      "Epoch 149/200\n",
      "2/2 [==============================] - 0s 18ms/step - loss: 0.6414 - tp: 8.0000 - fp: 0.0000e+00 - tn: 22.0000 - fn: 11.0000 - precision: 1.0000 - recall: 0.4211 - auc: 0.8361 - prc: 0.8572 - val_loss: 0.6337 - val_tp: 4.0000 - val_fp: 1.0000 - val_tn: 13.0000 - val_fn: 7.0000 - val_precision: 0.8000 - val_recall: 0.3636 - val_auc: 0.8539 - val_prc: 0.8016\n",
      "Epoch 150/200\n",
      "2/2 [==============================] - 0s 19ms/step - loss: 0.6408 - tp: 8.0000 - fp: 0.0000e+00 - tn: 22.0000 - fn: 11.0000 - precision: 1.0000 - recall: 0.4211 - auc: 0.8373 - prc: 0.8580 - val_loss: 0.6334 - val_tp: 3.0000 - val_fp: 1.0000 - val_tn: 13.0000 - val_fn: 8.0000 - val_precision: 0.7500 - val_recall: 0.2727 - val_auc: 0.8442 - val_prc: 0.8073\n",
      "Epoch 151/200\n"
     ]
    },
    {
     "name": "stdout",
     "output_type": "stream",
     "text": [
      "2/2 [==============================] - 0s 18ms/step - loss: 0.6405 - tp: 8.0000 - fp: 0.0000e+00 - tn: 22.0000 - fn: 11.0000 - precision: 1.0000 - recall: 0.4211 - auc: 0.8421 - prc: 0.8611 - val_loss: 0.6332 - val_tp: 3.0000 - val_fp: 1.0000 - val_tn: 13.0000 - val_fn: 8.0000 - val_precision: 0.7500 - val_recall: 0.2727 - val_auc: 0.8539 - val_prc: 0.8133\n",
      "Epoch 152/200\n",
      "2/2 [==============================] - 0s 18ms/step - loss: 0.6400 - tp: 8.0000 - fp: 0.0000e+00 - tn: 22.0000 - fn: 11.0000 - precision: 1.0000 - recall: 0.4211 - auc: 0.8445 - prc: 0.8635 - val_loss: 0.6330 - val_tp: 3.0000 - val_fp: 1.0000 - val_tn: 13.0000 - val_fn: 8.0000 - val_precision: 0.7500 - val_recall: 0.2727 - val_auc: 0.8539 - val_prc: 0.8133\n",
      "Epoch 153/200\n",
      "2/2 [==============================] - 0s 19ms/step - loss: 0.6394 - tp: 8.0000 - fp: 0.0000e+00 - tn: 22.0000 - fn: 11.0000 - precision: 1.0000 - recall: 0.4211 - auc: 0.8445 - prc: 0.8635 - val_loss: 0.6328 - val_tp: 3.0000 - val_fp: 1.0000 - val_tn: 13.0000 - val_fn: 8.0000 - val_precision: 0.7500 - val_recall: 0.2727 - val_auc: 0.8506 - val_prc: 0.8087\n",
      "Epoch 154/200\n",
      "2/2 [==============================] - 0s 19ms/step - loss: 0.6391 - tp: 8.0000 - fp: 0.0000e+00 - tn: 22.0000 - fn: 11.0000 - precision: 1.0000 - recall: 0.4211 - auc: 0.8493 - prc: 0.8673 - val_loss: 0.6326 - val_tp: 3.0000 - val_fp: 1.0000 - val_tn: 13.0000 - val_fn: 8.0000 - val_precision: 0.7500 - val_recall: 0.2727 - val_auc: 0.8506 - val_prc: 0.8056\n",
      "Epoch 155/200\n",
      "2/2 [==============================] - 0s 17ms/step - loss: 0.6386 - tp: 8.0000 - fp: 0.0000e+00 - tn: 22.0000 - fn: 11.0000 - precision: 1.0000 - recall: 0.4211 - auc: 0.8493 - prc: 0.8673 - val_loss: 0.6324 - val_tp: 3.0000 - val_fp: 1.0000 - val_tn: 13.0000 - val_fn: 8.0000 - val_precision: 0.7500 - val_recall: 0.2727 - val_auc: 0.8506 - val_prc: 0.8056\n",
      "Epoch 156/200\n",
      "2/2 [==============================] - 0s 17ms/step - loss: 0.6381 - tp: 8.0000 - fp: 0.0000e+00 - tn: 22.0000 - fn: 11.0000 - precision: 1.0000 - recall: 0.4211 - auc: 0.8505 - prc: 0.8676 - val_loss: 0.6322 - val_tp: 3.0000 - val_fp: 1.0000 - val_tn: 13.0000 - val_fn: 8.0000 - val_precision: 0.7500 - val_recall: 0.2727 - val_auc: 0.8506 - val_prc: 0.8056\n",
      "Epoch 157/200\n",
      "2/2 [==============================] - 0s 19ms/step - loss: 0.6377 - tp: 8.0000 - fp: 0.0000e+00 - tn: 22.0000 - fn: 11.0000 - precision: 1.0000 - recall: 0.4211 - auc: 0.8505 - prc: 0.8676 - val_loss: 0.6321 - val_tp: 3.0000 - val_fp: 1.0000 - val_tn: 13.0000 - val_fn: 8.0000 - val_precision: 0.7500 - val_recall: 0.2727 - val_auc: 0.8506 - val_prc: 0.8056\n",
      "Epoch 158/200\n",
      "2/2 [==============================] - 0s 16ms/step - loss: 0.6372 - tp: 8.0000 - fp: 0.0000e+00 - tn: 22.0000 - fn: 11.0000 - precision: 1.0000 - recall: 0.4211 - auc: 0.8541 - prc: 0.8736 - val_loss: 0.6319 - val_tp: 3.0000 - val_fp: 1.0000 - val_tn: 13.0000 - val_fn: 8.0000 - val_precision: 0.7500 - val_recall: 0.2727 - val_auc: 0.8474 - val_prc: 0.7916\n",
      "Epoch 159/200\n",
      "2/2 [==============================] - 0s 19ms/step - loss: 0.6369 - tp: 8.0000 - fp: 0.0000e+00 - tn: 22.0000 - fn: 11.0000 - precision: 1.0000 - recall: 0.4211 - auc: 0.8541 - prc: 0.8736 - val_loss: 0.6317 - val_tp: 3.0000 - val_fp: 1.0000 - val_tn: 13.0000 - val_fn: 8.0000 - val_precision: 0.7500 - val_recall: 0.2727 - val_auc: 0.8474 - val_prc: 0.7916\n",
      "Epoch 160/200\n",
      "2/2 [==============================] - 0s 17ms/step - loss: 0.6363 - tp: 8.0000 - fp: 0.0000e+00 - tn: 22.0000 - fn: 11.0000 - precision: 1.0000 - recall: 0.4211 - auc: 0.8541 - prc: 0.8736 - val_loss: 0.6315 - val_tp: 3.0000 - val_fp: 1.0000 - val_tn: 13.0000 - val_fn: 8.0000 - val_precision: 0.7500 - val_recall: 0.2727 - val_auc: 0.8506 - val_prc: 0.7933\n",
      "Epoch 161/200\n",
      "2/2 [==============================] - 0s 18ms/step - loss: 0.6358 - tp: 8.0000 - fp: 0.0000e+00 - tn: 22.0000 - fn: 11.0000 - precision: 1.0000 - recall: 0.4211 - auc: 0.8589 - prc: 0.8765 - val_loss: 0.6313 - val_tp: 4.0000 - val_fp: 1.0000 - val_tn: 13.0000 - val_fn: 7.0000 - val_precision: 0.8000 - val_recall: 0.3636 - val_auc: 0.8506 - val_prc: 0.7933\n",
      "Epoch 162/200\n",
      "2/2 [==============================] - 0s 17ms/step - loss: 0.6353 - tp: 8.0000 - fp: 0.0000e+00 - tn: 22.0000 - fn: 11.0000 - precision: 1.0000 - recall: 0.4211 - auc: 0.8577 - prc: 0.8757 - val_loss: 0.6312 - val_tp: 4.0000 - val_fp: 1.0000 - val_tn: 13.0000 - val_fn: 7.0000 - val_precision: 0.8000 - val_recall: 0.3636 - val_auc: 0.8506 - val_prc: 0.7933\n",
      "Epoch 163/200\n",
      "2/2 [==============================] - 0s 19ms/step - loss: 0.6348 - tp: 8.0000 - fp: 0.0000e+00 - tn: 22.0000 - fn: 11.0000 - precision: 1.0000 - recall: 0.4211 - auc: 0.8565 - prc: 0.8749 - val_loss: 0.6310 - val_tp: 4.0000 - val_fp: 1.0000 - val_tn: 13.0000 - val_fn: 7.0000 - val_precision: 0.8000 - val_recall: 0.3636 - val_auc: 0.8506 - val_prc: 0.8056\n",
      "Epoch 164/200\n",
      "2/2 [==============================] - 0s 18ms/step - loss: 0.6343 - tp: 8.0000 - fp: 0.0000e+00 - tn: 22.0000 - fn: 11.0000 - precision: 1.0000 - recall: 0.4211 - auc: 0.8565 - prc: 0.8767 - val_loss: 0.6310 - val_tp: 4.0000 - val_fp: 1.0000 - val_tn: 13.0000 - val_fn: 7.0000 - val_precision: 0.8000 - val_recall: 0.3636 - val_auc: 0.8636 - val_prc: 0.8184\n",
      "Epoch 165/200\n",
      "2/2 [==============================] - 0s 18ms/step - loss: 0.6338 - tp: 10.0000 - fp: 0.0000e+00 - tn: 22.0000 - fn: 9.0000 - precision: 1.0000 - recall: 0.5263 - auc: 0.8624 - prc: 0.8799 - val_loss: 0.6309 - val_tp: 4.0000 - val_fp: 1.0000 - val_tn: 13.0000 - val_fn: 7.0000 - val_precision: 0.8000 - val_recall: 0.3636 - val_auc: 0.8442 - val_prc: 0.7884\n",
      "Epoch 166/200\n",
      "2/2 [==============================] - 0s 17ms/step - loss: 0.6333 - tp: 10.0000 - fp: 0.0000e+00 - tn: 22.0000 - fn: 9.0000 - precision: 1.0000 - recall: 0.5263 - auc: 0.8553 - prc: 0.8750 - val_loss: 0.6308 - val_tp: 4.0000 - val_fp: 1.0000 - val_tn: 13.0000 - val_fn: 7.0000 - val_precision: 0.8000 - val_recall: 0.3636 - val_auc: 0.8539 - val_prc: 0.8073\n",
      "Epoch 167/200\n",
      "2/2 [==============================] - 0s 19ms/step - loss: 0.6328 - tp: 10.0000 - fp: 0.0000e+00 - tn: 22.0000 - fn: 9.0000 - precision: 1.0000 - recall: 0.5263 - auc: 0.8600 - prc: 0.8788 - val_loss: 0.6307 - val_tp: 4.0000 - val_fp: 1.0000 - val_tn: 13.0000 - val_fn: 7.0000 - val_precision: 0.8000 - val_recall: 0.3636 - val_auc: 0.8669 - val_prc: 0.8183\n",
      "Epoch 168/200\n",
      "2/2 [==============================] - 0s 18ms/step - loss: 0.6324 - tp: 11.0000 - fp: 0.0000e+00 - tn: 22.0000 - fn: 8.0000 - precision: 1.0000 - recall: 0.5789 - auc: 0.8636 - prc: 0.8809 - val_loss: 0.6306 - val_tp: 4.0000 - val_fp: 1.0000 - val_tn: 13.0000 - val_fn: 7.0000 - val_precision: 0.8000 - val_recall: 0.3636 - val_auc: 0.8539 - val_prc: 0.7911\n",
      "Epoch 169/200\n",
      "2/2 [==============================] - 0s 19ms/step - loss: 0.6319 - tp: 11.0000 - fp: 0.0000e+00 - tn: 22.0000 - fn: 8.0000 - precision: 1.0000 - recall: 0.5789 - auc: 0.8624 - prc: 0.8799 - val_loss: 0.6304 - val_tp: 4.0000 - val_fp: 1.0000 - val_tn: 13.0000 - val_fn: 7.0000 - val_precision: 0.8000 - val_recall: 0.3636 - val_auc: 0.8539 - val_prc: 0.7911\n",
      "Epoch 170/200\n",
      "2/2 [==============================] - 0s 17ms/step - loss: 0.6313 - tp: 11.0000 - fp: 0.0000e+00 - tn: 22.0000 - fn: 8.0000 - precision: 1.0000 - recall: 0.5789 - auc: 0.8636 - prc: 0.8814 - val_loss: 0.6302 - val_tp: 4.0000 - val_fp: 1.0000 - val_tn: 13.0000 - val_fn: 7.0000 - val_precision: 0.8000 - val_recall: 0.3636 - val_auc: 0.8539 - val_prc: 0.7911\n",
      "Epoch 171/200\n",
      "2/2 [==============================] - 0s 17ms/step - loss: 0.6308 - tp: 11.0000 - fp: 0.0000e+00 - tn: 22.0000 - fn: 8.0000 - precision: 1.0000 - recall: 0.5789 - auc: 0.8636 - prc: 0.8804 - val_loss: 0.6300 - val_tp: 4.0000 - val_fp: 1.0000 - val_tn: 13.0000 - val_fn: 7.0000 - val_precision: 0.8000 - val_recall: 0.3636 - val_auc: 0.8604 - val_prc: 0.7986\n",
      "Epoch 172/200\n",
      "2/2 [==============================] - 0s 17ms/step - loss: 0.6304 - tp: 11.0000 - fp: 0.0000e+00 - tn: 22.0000 - fn: 8.0000 - precision: 1.0000 - recall: 0.5789 - auc: 0.8672 - prc: 0.8821 - val_loss: 0.6297 - val_tp: 4.0000 - val_fp: 1.0000 - val_tn: 13.0000 - val_fn: 7.0000 - val_precision: 0.8000 - val_recall: 0.3636 - val_auc: 0.8474 - val_prc: 0.8023\n",
      "Epoch 173/200\n"
     ]
    },
    {
     "name": "stdout",
     "output_type": "stream",
     "text": [
      "2/2 [==============================] - 0s 18ms/step - loss: 0.6299 - tp: 11.0000 - fp: 0.0000e+00 - tn: 22.0000 - fn: 8.0000 - precision: 1.0000 - recall: 0.5789 - auc: 0.8684 - prc: 0.8825 - val_loss: 0.6295 - val_tp: 4.0000 - val_fp: 1.0000 - val_tn: 13.0000 - val_fn: 7.0000 - val_precision: 0.8000 - val_recall: 0.3636 - val_auc: 0.8474 - val_prc: 0.8023\n",
      "Epoch 174/200\n",
      "2/2 [==============================] - 0s 18ms/step - loss: 0.6294 - tp: 11.0000 - fp: 0.0000e+00 - tn: 22.0000 - fn: 8.0000 - precision: 1.0000 - recall: 0.5789 - auc: 0.8684 - prc: 0.8825 - val_loss: 0.6292 - val_tp: 4.0000 - val_fp: 1.0000 - val_tn: 13.0000 - val_fn: 7.0000 - val_precision: 0.8000 - val_recall: 0.3636 - val_auc: 0.8474 - val_prc: 0.8023\n",
      "Epoch 175/200\n",
      "2/2 [==============================] - 0s 18ms/step - loss: 0.6289 - tp: 11.0000 - fp: 0.0000e+00 - tn: 22.0000 - fn: 8.0000 - precision: 1.0000 - recall: 0.5789 - auc: 0.8648 - prc: 0.8801 - val_loss: 0.6290 - val_tp: 4.0000 - val_fp: 1.0000 - val_tn: 13.0000 - val_fn: 7.0000 - val_precision: 0.8000 - val_recall: 0.3636 - val_auc: 0.8539 - val_prc: 0.8069\n",
      "Epoch 176/200\n",
      "2/2 [==============================] - 0s 18ms/step - loss: 0.6283 - tp: 11.0000 - fp: 0.0000e+00 - tn: 22.0000 - fn: 8.0000 - precision: 1.0000 - recall: 0.5789 - auc: 0.8660 - prc: 0.8806 - val_loss: 0.6287 - val_tp: 4.0000 - val_fp: 1.0000 - val_tn: 13.0000 - val_fn: 7.0000 - val_precision: 0.8000 - val_recall: 0.3636 - val_auc: 0.8539 - val_prc: 0.8024\n",
      "Epoch 177/200\n",
      "2/2 [==============================] - 0s 18ms/step - loss: 0.6279 - tp: 11.0000 - fp: 0.0000e+00 - tn: 22.0000 - fn: 8.0000 - precision: 1.0000 - recall: 0.5789 - auc: 0.8696 - prc: 0.8853 - val_loss: 0.6284 - val_tp: 4.0000 - val_fp: 1.0000 - val_tn: 13.0000 - val_fn: 7.0000 - val_precision: 0.8000 - val_recall: 0.3636 - val_auc: 0.8474 - val_prc: 0.8023\n",
      "Epoch 178/200\n",
      "2/2 [==============================] - 0s 19ms/step - loss: 0.6276 - tp: 11.0000 - fp: 0.0000e+00 - tn: 22.0000 - fn: 8.0000 - precision: 1.0000 - recall: 0.5789 - auc: 0.8708 - prc: 0.8836 - val_loss: 0.6282 - val_tp: 4.0000 - val_fp: 1.0000 - val_tn: 13.0000 - val_fn: 7.0000 - val_precision: 0.8000 - val_recall: 0.3636 - val_auc: 0.8571 - val_prc: 0.8085\n",
      "Epoch 179/200\n",
      "2/2 [==============================] - 0s 18ms/step - loss: 0.6272 - tp: 10.0000 - fp: 0.0000e+00 - tn: 22.0000 - fn: 9.0000 - precision: 1.0000 - recall: 0.5263 - auc: 0.8660 - prc: 0.8806 - val_loss: 0.6279 - val_tp: 4.0000 - val_fp: 1.0000 - val_tn: 13.0000 - val_fn: 7.0000 - val_precision: 0.8000 - val_recall: 0.3636 - val_auc: 0.8701 - val_prc: 0.8173\n",
      "Epoch 180/200\n",
      "2/2 [==============================] - 0s 18ms/step - loss: 0.6266 - tp: 10.0000 - fp: 0.0000e+00 - tn: 22.0000 - fn: 9.0000 - precision: 1.0000 - recall: 0.5263 - auc: 0.8660 - prc: 0.8806 - val_loss: 0.6278 - val_tp: 4.0000 - val_fp: 1.0000 - val_tn: 13.0000 - val_fn: 7.0000 - val_precision: 0.8000 - val_recall: 0.3636 - val_auc: 0.8701 - val_prc: 0.8173\n",
      "Epoch 181/200\n",
      "2/2 [==============================] - 0s 18ms/step - loss: 0.6261 - tp: 11.0000 - fp: 0.0000e+00 - tn: 22.0000 - fn: 8.0000 - precision: 1.0000 - recall: 0.5789 - auc: 0.8660 - prc: 0.8806 - val_loss: 0.6275 - val_tp: 4.0000 - val_fp: 1.0000 - val_tn: 13.0000 - val_fn: 7.0000 - val_precision: 0.8000 - val_recall: 0.3636 - val_auc: 0.8604 - val_prc: 0.7986\n",
      "Epoch 182/200\n",
      "2/2 [==============================] - 0s 19ms/step - loss: 0.6256 - tp: 11.0000 - fp: 0.0000e+00 - tn: 22.0000 - fn: 8.0000 - precision: 1.0000 - recall: 0.5789 - auc: 0.8696 - prc: 0.8835 - val_loss: 0.6273 - val_tp: 4.0000 - val_fp: 1.0000 - val_tn: 13.0000 - val_fn: 7.0000 - val_precision: 0.8000 - val_recall: 0.3636 - val_auc: 0.8669 - val_prc: 0.8154\n",
      "Epoch 183/200\n",
      "2/2 [==============================] - 0s 18ms/step - loss: 0.6250 - tp: 11.0000 - fp: 0.0000e+00 - tn: 22.0000 - fn: 8.0000 - precision: 1.0000 - recall: 0.5789 - auc: 0.8708 - prc: 0.8857 - val_loss: 0.6271 - val_tp: 4.0000 - val_fp: 1.0000 - val_tn: 13.0000 - val_fn: 7.0000 - val_precision: 0.8000 - val_recall: 0.3636 - val_auc: 0.8669 - val_prc: 0.8154\n",
      "Epoch 184/200\n",
      "2/2 [==============================] - 0s 17ms/step - loss: 0.6245 - tp: 11.0000 - fp: 0.0000e+00 - tn: 22.0000 - fn: 8.0000 - precision: 1.0000 - recall: 0.5789 - auc: 0.8708 - prc: 0.8857 - val_loss: 0.6269 - val_tp: 4.0000 - val_fp: 1.0000 - val_tn: 13.0000 - val_fn: 7.0000 - val_precision: 0.8000 - val_recall: 0.3636 - val_auc: 0.8571 - val_prc: 0.8085\n",
      "Epoch 185/200\n",
      "2/2 [==============================] - 0s 17ms/step - loss: 0.6240 - tp: 11.0000 - fp: 0.0000e+00 - tn: 22.0000 - fn: 8.0000 - precision: 1.0000 - recall: 0.5789 - auc: 0.8732 - prc: 0.8868 - val_loss: 0.6268 - val_tp: 4.0000 - val_fp: 1.0000 - val_tn: 13.0000 - val_fn: 7.0000 - val_precision: 0.8000 - val_recall: 0.3636 - val_auc: 0.8506 - val_prc: 0.7969\n",
      "Epoch 186/200\n",
      "2/2 [==============================] - 0s 18ms/step - loss: 0.6234 - tp: 11.0000 - fp: 0.0000e+00 - tn: 22.0000 - fn: 8.0000 - precision: 1.0000 - recall: 0.5789 - auc: 0.8744 - prc: 0.8872 - val_loss: 0.6266 - val_tp: 4.0000 - val_fp: 1.0000 - val_tn: 13.0000 - val_fn: 7.0000 - val_precision: 0.8000 - val_recall: 0.3636 - val_auc: 0.8571 - val_prc: 0.8076\n",
      "Epoch 187/200\n",
      "2/2 [==============================] - 0s 18ms/step - loss: 0.6228 - tp: 11.0000 - fp: 0.0000e+00 - tn: 22.0000 - fn: 8.0000 - precision: 1.0000 - recall: 0.5789 - auc: 0.8756 - prc: 0.8901 - val_loss: 0.6265 - val_tp: 4.0000 - val_fp: 1.0000 - val_tn: 13.0000 - val_fn: 7.0000 - val_precision: 0.8000 - val_recall: 0.3636 - val_auc: 0.8636 - val_prc: 0.8125\n",
      "Epoch 188/200\n",
      "2/2 [==============================] - 0s 19ms/step - loss: 0.6224 - tp: 11.0000 - fp: 0.0000e+00 - tn: 22.0000 - fn: 8.0000 - precision: 1.0000 - recall: 0.5789 - auc: 0.8732 - prc: 0.8870 - val_loss: 0.6264 - val_tp: 4.0000 - val_fp: 1.0000 - val_tn: 13.0000 - val_fn: 7.0000 - val_precision: 0.8000 - val_recall: 0.3636 - val_auc: 0.8669 - val_prc: 0.8146\n",
      "Epoch 189/200\n",
      "2/2 [==============================] - 0s 17ms/step - loss: 0.6218 - tp: 11.0000 - fp: 0.0000e+00 - tn: 22.0000 - fn: 8.0000 - precision: 1.0000 - recall: 0.5789 - auc: 0.8732 - prc: 0.8870 - val_loss: 0.6262 - val_tp: 4.0000 - val_fp: 1.0000 - val_tn: 13.0000 - val_fn: 7.0000 - val_precision: 0.8000 - val_recall: 0.3636 - val_auc: 0.8669 - val_prc: 0.8087\n",
      "Epoch 190/200\n",
      "2/2 [==============================] - 0s 17ms/step - loss: 0.6216 - tp: 11.0000 - fp: 0.0000e+00 - tn: 22.0000 - fn: 8.0000 - precision: 1.0000 - recall: 0.5789 - auc: 0.8744 - prc: 0.8872 - val_loss: 0.6261 - val_tp: 4.0000 - val_fp: 1.0000 - val_tn: 13.0000 - val_fn: 7.0000 - val_precision: 0.8000 - val_recall: 0.3636 - val_auc: 0.8604 - val_prc: 0.8035\n",
      "Epoch 191/200\n",
      "2/2 [==============================] - 0s 18ms/step - loss: 0.6208 - tp: 11.0000 - fp: 0.0000e+00 - tn: 22.0000 - fn: 8.0000 - precision: 1.0000 - recall: 0.5789 - auc: 0.8780 - prc: 0.8928 - val_loss: 0.6259 - val_tp: 4.0000 - val_fp: 1.0000 - val_tn: 13.0000 - val_fn: 7.0000 - val_precision: 0.8000 - val_recall: 0.3636 - val_auc: 0.8669 - val_prc: 0.8087\n",
      "Epoch 192/200\n",
      "2/2 [==============================] - 0s 17ms/step - loss: 0.6202 - tp: 11.0000 - fp: 0.0000e+00 - tn: 22.0000 - fn: 8.0000 - precision: 1.0000 - recall: 0.5789 - auc: 0.8780 - prc: 0.8928 - val_loss: 0.6258 - val_tp: 4.0000 - val_fp: 1.0000 - val_tn: 13.0000 - val_fn: 7.0000 - val_precision: 0.8000 - val_recall: 0.3636 - val_auc: 0.8636 - val_prc: 0.8091\n",
      "Epoch 193/200\n",
      "2/2 [==============================] - 0s 21ms/step - loss: 0.6197 - tp: 11.0000 - fp: 0.0000e+00 - tn: 22.0000 - fn: 8.0000 - precision: 1.0000 - recall: 0.5789 - auc: 0.8768 - prc: 0.8907 - val_loss: 0.6257 - val_tp: 4.0000 - val_fp: 1.0000 - val_tn: 13.0000 - val_fn: 7.0000 - val_precision: 0.8000 - val_recall: 0.3636 - val_auc: 0.8636 - val_prc: 0.8125\n",
      "Epoch 194/200\n",
      "2/2 [==============================] - 0s 27ms/step - loss: 0.6192 - tp: 11.0000 - fp: 0.0000e+00 - tn: 22.0000 - fn: 8.0000 - precision: 1.0000 - recall: 0.5789 - auc: 0.8768 - prc: 0.8905 - val_loss: 0.6256 - val_tp: 4.0000 - val_fp: 1.0000 - val_tn: 13.0000 - val_fn: 7.0000 - val_precision: 0.8000 - val_recall: 0.3636 - val_auc: 0.8669 - val_prc: 0.8146\n",
      "Epoch 195/200\n"
     ]
    },
    {
     "name": "stdout",
     "output_type": "stream",
     "text": [
      "2/2 [==============================] - 0s 28ms/step - loss: 0.6186 - tp: 11.0000 - fp: 1.0000 - tn: 21.0000 - fn: 8.0000 - precision: 0.9167 - recall: 0.5789 - auc: 0.8744 - prc: 0.8876 - val_loss: 0.6255 - val_tp: 4.0000 - val_fp: 1.0000 - val_tn: 13.0000 - val_fn: 7.0000 - val_precision: 0.8000 - val_recall: 0.3636 - val_auc: 0.8604 - val_prc: 0.8040\n",
      "Epoch 196/200\n",
      "2/2 [==============================] - 0s 34ms/step - loss: 0.6183 - tp: 11.0000 - fp: 1.0000 - tn: 21.0000 - fn: 8.0000 - precision: 0.9167 - recall: 0.5789 - auc: 0.8780 - prc: 0.8931 - val_loss: 0.6254 - val_tp: 4.0000 - val_fp: 1.0000 - val_tn: 13.0000 - val_fn: 7.0000 - val_precision: 0.8000 - val_recall: 0.3636 - val_auc: 0.8604 - val_prc: 0.8040\n",
      "Epoch 197/200\n",
      "2/2 [==============================] - 0s 22ms/step - loss: 0.6177 - tp: 11.0000 - fp: 1.0000 - tn: 21.0000 - fn: 8.0000 - precision: 0.9167 - recall: 0.5789 - auc: 0.8792 - prc: 0.8937 - val_loss: 0.6252 - val_tp: 4.0000 - val_fp: 1.0000 - val_tn: 13.0000 - val_fn: 7.0000 - val_precision: 0.8000 - val_recall: 0.3636 - val_auc: 0.8669 - val_prc: 0.8087\n",
      "Epoch 198/200\n",
      "2/2 [==============================] - 0s 20ms/step - loss: 0.6171 - tp: 11.0000 - fp: 1.0000 - tn: 21.0000 - fn: 8.0000 - precision: 0.9167 - recall: 0.5789 - auc: 0.8768 - prc: 0.8916 - val_loss: 0.6252 - val_tp: 4.0000 - val_fp: 1.0000 - val_tn: 13.0000 - val_fn: 7.0000 - val_precision: 0.8000 - val_recall: 0.3636 - val_auc: 0.8734 - val_prc: 0.8190\n",
      "Epoch 199/200\n",
      "2/2 [==============================] - 0s 18ms/step - loss: 0.6166 - tp: 12.0000 - fp: 1.0000 - tn: 21.0000 - fn: 7.0000 - precision: 0.9231 - recall: 0.6316 - auc: 0.8780 - prc: 0.8915 - val_loss: 0.6251 - val_tp: 4.0000 - val_fp: 1.0000 - val_tn: 13.0000 - val_fn: 7.0000 - val_precision: 0.8000 - val_recall: 0.3636 - val_auc: 0.8669 - val_prc: 0.8146\n",
      "Epoch 200/200\n",
      "2/2 [==============================] - 0s 20ms/step - loss: 0.6161 - tp: 12.0000 - fp: 1.0000 - tn: 21.0000 - fn: 7.0000 - precision: 0.9231 - recall: 0.6316 - auc: 0.8768 - prc: 0.8898 - val_loss: 0.6250 - val_tp: 4.0000 - val_fp: 1.0000 - val_tn: 13.0000 - val_fn: 7.0000 - val_precision: 0.8000 - val_recall: 0.3636 - val_auc: 0.8604 - val_prc: 0.8040\n"
     ]
    }
   ],
   "source": [
    "history = nn.compile_and_fit_classifier(model, conv_window, patience=2, max_epochs=200, verbose=1)"
   ]
  },
  {
   "cell_type": "markdown",
   "metadata": {},
   "source": [
    "Here is the summary of the model."
   ]
  },
  {
   "cell_type": "code",
   "execution_count": 6,
   "metadata": {
    "pycharm": {
     "is_executing": true
    }
   },
   "outputs": [
    {
     "name": "stdout",
     "output_type": "stream",
     "text": [
      "Model: \"sequential\"\n",
      "_________________________________________________________________\n",
      "Layer (type)                 Output Shape              Param #   \n",
      "=================================================================\n",
      "permute (Permute)            (None, 10, 3)             0         \n",
      "_________________________________________________________________\n",
      "reshape (Reshape)            (None, 1, 30, 1)          0         \n",
      "_________________________________________________________________\n",
      "conv1d (Conv1D)              (None, 1, 10, 4)          16        \n",
      "_________________________________________________________________\n",
      "flatten (Flatten)            (None, 40)                0         \n",
      "_________________________________________________________________\n",
      "dense (Dense)                (None, 1)                 41        \n",
      "=================================================================\n",
      "Total params: 57\n",
      "Trainable params: 57\n",
      "Non-trainable params: 0\n",
      "_________________________________________________________________\n"
     ]
    }
   ],
   "source": [
    "model.summary()"
   ]
  },
  {
   "cell_type": "markdown",
   "metadata": {},
   "source": [
    "Here are the results:"
   ]
  },
  {
   "cell_type": "code",
   "execution_count": 7,
   "metadata": {
    "pycharm": {
     "is_executing": true
    }
   },
   "outputs": [
    {
     "name": "stdout",
     "output_type": "stream",
     "text": [
      "Train AUC: 0.8791866302490234\n",
      "Val   AUC: 0.8603895902633667\n"
     ]
    }
   ],
   "source": [
    "auc_train = model.evaluate(x=conv_window.train[0], y=conv_window.train[1], verbose=0)[7]\n",
    "auc_val = model.evaluate(x=conv_window.val[0], y=conv_window.val[1], verbose=0)[7]\n",
    "print('Train AUC: {}'.format(auc_train))\n",
    "print('Val   AUC: {}'.format(auc_val))"
   ]
  },
  {
   "cell_type": "markdown",
   "metadata": {},
   "source": [
    "The value of the ROC AUC is for training is much higher than validation, indicating over-fitting.\n",
    "\n",
    "This is confirmed by the plot of the loss functions:"
   ]
  },
  {
   "cell_type": "code",
   "execution_count": 8,
   "metadata": {
    "pycharm": {
     "is_executing": true
    }
   },
   "outputs": [
    {
     "data": {
      "application/vnd.jupyter.widget-view+json": {
       "model_id": "d34a2776c380487c8dd9efa99f0f7f61",
       "version_major": 2,
       "version_minor": 0
      },
      "text/plain": [
       "Canvas(toolbar=Toolbar(toolitems=[('Home', 'Reset original view', 'home', 'home'), ('Back', 'Back to previous …"
      ]
     },
     "metadata": {},
     "output_type": "display_data"
    },
    {
     "data": {
      "text/plain": [
       "Text(0.5, 1.0, 'Loss')"
      ]
     },
     "execution_count": 8,
     "metadata": {},
     "output_type": "execute_result"
    }
   ],
   "source": [
    "plt.plot(history.history['loss'], label='train')\n",
    "plt.plot(history.history['val_loss'], label='val')\n",
    "plt.legend()\n",
    "plt.title('Loss')"
   ]
  },
  {
   "cell_type": "markdown",
   "metadata": {},
   "source": [
    "Even with over-fitting, the validation ROC AUC is near enough to 0.5 to indicate that these predictors are not predictors for this target. Which brings us back to the need to efficiently search the space of predictors.\n",
    "\n",
    "## Efficiently Looking for Predictors\n",
    "We can search the predictor space faster if we can test lots of predictors at once. How many should that be?\n",
    "\n",
    "To answer that question, we wrote some code to modify a predictor by adding a kernel to the predictor exactly before each positive class in the labels. When we ran the modified predictor along with the target through our model we got a perfect fit of both the training and validation data.\n",
    "\n",
    "This continued when we add 9 other predictors that did not predict this target. With 99 others, we got an AUC in the high 0.90s. With 499 others AUC was around 0.8. So we probably could search in blocks of 500.\n",
    "\n",
    "## Running on Test Data\n",
    "At this point there is no need to run the model on the test data because we have not found a set of predictors that work on validation.\n",
    "\n",
    "When we find a set of predictors that work, we will update the model weights every week as we run it on the test data.\n"
   ]
  }
 ],
 "metadata": {
  "kernelspec": {
   "display_name": "ccm_stock",
   "language": "python",
   "name": "ccm_stock"
  },
  "language_info": {
   "codemirror_mode": {
    "name": "ipython",
    "version": 3
   },
   "file_extension": ".py",
   "mimetype": "text/x-python",
   "name": "python",
   "nbconvert_exporter": "python",
   "pygments_lexer": "ipython3",
   "version": "3.9.5"
  }
 },
 "nbformat": 4,
 "nbformat_minor": 4
}